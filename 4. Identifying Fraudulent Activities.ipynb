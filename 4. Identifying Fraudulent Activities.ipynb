{
 "cells": [
  {
   "cell_type": "markdown",
   "metadata": {},
   "source": [
    "# Table of Contents\n",
    "* [Set up environment](#env)\n",
    "* [Read in Data](#load)\n",
    "    * [Map IP Address to Country](#ip)\n",
    "    * [Feature Engineering](#fea)\n",
    "    * [Variable Sanity Check](#san)\n",
    "* [Fraudulent Activity Prediction](#pres)\n",
    "    * [Grid Search Hyper-parameters](#hyper)\n",
    "    * [Optimal Random Forest Model](#opt) \n",
    "    * [Implications of False Positives vs False Negatives](#fp)\n",
    "    * [Images of High Fraudulent Risk Users](#im)   \n",
    "* [Model Usage and Recommendation](#re)"
   ]
  },
  {
   "cell_type": "markdown",
   "metadata": {},
   "source": [
    "\n",
    "Goal of this data challenge: to predict the probability that the first transaction of a new user is fraudulent.\n",
    "\n",
    "Several questions need to be addressed:\n",
    "* For each user, determine her country based on the numeric IP address.\n",
    "* Build a model to predict whether an activity is fraudulent or not. Explain how different assumptions about the cost of false positives vs false negatives would impact the model.\n",
    "* Interpret the model: What kinds of users are more likely to be classified as at risk? What are their characteristics?\n",
    "* From a product perspective, how would you use the model to tell if an activity is fraudulent or not? That is, what kind of different user experiences would you build based on the model output?"
   ]
  },
  {
   "cell_type": "markdown",
   "metadata": {},
   "source": [
    "# Set up Environment\n",
    "<a id=\"env\"></a> "
   ]
  },
  {
   "cell_type": "code",
   "execution_count": 214,
   "metadata": {
    "ExecuteTime": {
     "end_time": "2018-12-09T18:24:31.931839Z",
     "start_time": "2018-12-09T18:24:31.920258Z"
    }
   },
   "outputs": [],
   "source": [
    "# import library\n",
    "import numpy as np\n",
    "import pandas as pd\n",
    "import matplotlib.pyplot as plt\n",
    "import seaborn as sns\n",
    "import os \n",
    "import warnings\n",
    "warnings.simplefilter('default')\n",
    "from scipy import stats"
   ]
  },
  {
   "cell_type": "markdown",
   "metadata": {},
   "source": [
    "# Read in Data\n",
    "<a id=\"load\"></a> "
   ]
  },
  {
   "cell_type": "code",
   "execution_count": 215,
   "metadata": {
    "ExecuteTime": {
     "end_time": "2018-12-09T18:24:33.152337Z",
     "start_time": "2018-12-09T18:24:32.491332Z"
    }
   },
   "outputs": [
    {
     "data": {
      "text/plain": [
       "(151112, 11)"
      ]
     },
     "execution_count": 215,
     "metadata": {},
     "output_type": "execute_result"
    }
   ],
   "source": [
    "# read in fraud_table\n",
    "fraud_df = pd.read_csv(\"./Fraud/Fraud_Data.csv\")\n",
    "fraud_df.shape"
   ]
  },
  {
   "cell_type": "code",
   "execution_count": 243,
   "metadata": {
    "ExecuteTime": {
     "end_time": "2018-12-10T00:00:30.853441Z",
     "start_time": "2018-12-10T00:00:30.827418Z"
    }
   },
   "outputs": [
    {
     "data": {
      "text/plain": [
       "151112"
      ]
     },
     "execution_count": 243,
     "metadata": {},
     "output_type": "execute_result"
    }
   ],
   "source": [
    "fraud_df.user_id.nunique()"
   ]
  },
  {
   "cell_type": "code",
   "execution_count": 216,
   "metadata": {
    "ExecuteTime": {
     "end_time": "2018-12-09T18:24:33.315942Z",
     "start_time": "2018-12-09T18:24:33.157690Z"
    }
   },
   "outputs": [
    {
     "data": {
      "text/plain": [
       "(138846, 3)"
      ]
     },
     "execution_count": 216,
     "metadata": {},
     "output_type": "execute_result"
    }
   ],
   "source": [
    "# read in ip_table\n",
    "ip_df = pd.read_csv(\"./Fraud/IpAddress_to_Country.csv\")\n",
    "ip_df.shape"
   ]
  },
  {
   "cell_type": "code",
   "execution_count": 217,
   "metadata": {
    "ExecuteTime": {
     "end_time": "2018-12-09T18:24:33.336073Z",
     "start_time": "2018-12-09T18:24:33.323181Z"
    }
   },
   "outputs": [
    {
     "data": {
      "text/plain": [
       "Index([u'user_id', u'signup_time', u'purchase_time', u'purchase_value',\n",
       "       u'device_id', u'source', u'browser', u'sex', u'age', u'ip_address',\n",
       "       u'class'],\n",
       "      dtype='object')"
      ]
     },
     "execution_count": 217,
     "metadata": {},
     "output_type": "execute_result"
    }
   ],
   "source": [
    "fraud_df.columns"
   ]
  },
  {
   "cell_type": "code",
   "execution_count": 218,
   "metadata": {
    "ExecuteTime": {
     "end_time": "2018-12-09T18:24:33.359523Z",
     "start_time": "2018-12-09T18:24:33.343495Z"
    }
   },
   "outputs": [
    {
     "data": {
      "text/plain": [
       "Index([u'lower_bound_ip_address', u'upper_bound_ip_address', u'country'], dtype='object')"
      ]
     },
     "execution_count": 218,
     "metadata": {},
     "output_type": "execute_result"
    }
   ],
   "source": [
    "ip_df.columns"
   ]
  },
  {
   "cell_type": "code",
   "execution_count": 219,
   "metadata": {
    "ExecuteTime": {
     "end_time": "2018-12-09T18:24:33.650336Z",
     "start_time": "2018-12-09T18:24:33.533166Z"
    }
   },
   "outputs": [
    {
     "data": {
      "text/plain": [
       "user_id           0\n",
       "signup_time       0\n",
       "purchase_time     0\n",
       "purchase_value    0\n",
       "device_id         0\n",
       "source            0\n",
       "browser           0\n",
       "sex               0\n",
       "age               0\n",
       "ip_address        0\n",
       "class             0\n",
       "dtype: int64"
      ]
     },
     "execution_count": 219,
     "metadata": {},
     "output_type": "execute_result"
    }
   ],
   "source": [
    "pd.isnull(fraud_df).sum()"
   ]
  },
  {
   "cell_type": "code",
   "execution_count": 220,
   "metadata": {
    "ExecuteTime": {
     "end_time": "2018-12-09T18:24:33.812467Z",
     "start_time": "2018-12-09T18:24:33.774986Z"
    }
   },
   "outputs": [
    {
     "data": {
      "text/plain": [
       "lower_bound_ip_address    0\n",
       "upper_bound_ip_address    0\n",
       "country                   0\n",
       "dtype: int64"
      ]
     },
     "execution_count": 220,
     "metadata": {},
     "output_type": "execute_result"
    }
   ],
   "source": [
    "pd.isnull(ip_df).sum()"
   ]
  },
  {
   "cell_type": "code",
   "execution_count": 221,
   "metadata": {
    "ExecuteTime": {
     "end_time": "2018-12-09T18:24:34.645160Z",
     "start_time": "2018-12-09T18:24:34.556013Z"
    }
   },
   "outputs": [
    {
     "name": "stdout",
     "output_type": "stream",
     "text": [
      "<class 'pandas.core.frame.DataFrame'>\n",
      "RangeIndex: 151112 entries, 0 to 151111\n",
      "Data columns (total 11 columns):\n",
      "user_id           151112 non-null int64\n",
      "signup_time       151112 non-null object\n",
      "purchase_time     151112 non-null object\n",
      "purchase_value    151112 non-null int64\n",
      "device_id         151112 non-null object\n",
      "source            151112 non-null object\n",
      "browser           151112 non-null object\n",
      "sex               151112 non-null object\n",
      "age               151112 non-null int64\n",
      "ip_address        151112 non-null float64\n",
      "class             151112 non-null int64\n",
      "dtypes: float64(1), int64(4), object(6)\n",
      "memory usage: 12.7+ MB\n"
     ]
    }
   ],
   "source": [
    "fraud_df.info()"
   ]
  },
  {
   "cell_type": "code",
   "execution_count": 222,
   "metadata": {
    "ExecuteTime": {
     "end_time": "2018-12-09T18:24:35.400411Z",
     "start_time": "2018-12-09T18:24:35.252400Z"
    }
   },
   "outputs": [],
   "source": [
    "fraud_df['signup_time'] = pd.to_datetime(fraud_df['signup_time'])\n",
    "fraud_df['purchase_time'] = pd.to_datetime(fraud_df['purchase_time'])"
   ]
  },
  {
   "cell_type": "code",
   "execution_count": 223,
   "metadata": {
    "ExecuteTime": {
     "end_time": "2018-12-09T18:24:36.085985Z",
     "start_time": "2018-12-09T18:24:36.048639Z"
    }
   },
   "outputs": [
    {
     "name": "stdout",
     "output_type": "stream",
     "text": [
      "<class 'pandas.core.frame.DataFrame'>\n",
      "RangeIndex: 138846 entries, 0 to 138845\n",
      "Data columns (total 3 columns):\n",
      "lower_bound_ip_address    138846 non-null float64\n",
      "upper_bound_ip_address    138846 non-null int64\n",
      "country                   138846 non-null object\n",
      "dtypes: float64(1), int64(1), object(1)\n",
      "memory usage: 3.2+ MB\n"
     ]
    }
   ],
   "source": [
    "ip_df.info()"
   ]
  },
  {
   "cell_type": "code",
   "execution_count": 224,
   "metadata": {
    "ExecuteTime": {
     "end_time": "2018-12-09T18:24:37.259602Z",
     "start_time": "2018-12-09T18:24:37.249377Z"
    }
   },
   "outputs": [],
   "source": [
    "ip_df['upper_bound_ip_address'] = ip_df.upper_bound_ip_address.astype('float64')"
   ]
  },
  {
   "cell_type": "markdown",
   "metadata": {},
   "source": [
    "## Map IP Address to Country\n",
    "<a id=\"ip\"></a> "
   ]
  },
  {
   "cell_type": "markdown",
   "metadata": {},
   "source": [
    "* Three different method can be used to do the mapping:\n",
    "SQL or line by line iteration or binary search\n",
    "\n",
    "Use line by line iteration: very time consuming, time complexity is O(m*n);\n",
    "To run SQL on python, we need to connect to a database with sqlite3"
   ]
  },
  {
   "cell_type": "code",
   "execution_count": 225,
   "metadata": {
    "ExecuteTime": {
     "end_time": "2018-12-09T18:30:21.483640Z",
     "start_time": "2018-12-09T18:24:40.606170Z"
    }
   },
   "outputs": [
    {
     "data": {
      "text/plain": [
       "United States                      58049\n",
       "unknown                            21966\n",
       "China                              12038\n",
       "Japan                               7306\n",
       "United Kingdom                      4490\n",
       "Korea Republic of                   4162\n",
       "Germany                             3646\n",
       "France                              3161\n",
       "Canada                              2975\n",
       "Brazil                              2961\n",
       "Italy                               1944\n",
       "Australia                           1844\n",
       "Netherlands                         1680\n",
       "Russian Federation                  1616\n",
       "India                               1310\n",
       "Taiwan; Republic of China (ROC)     1237\n",
       "Mexico                              1121\n",
       "Sweden                              1090\n",
       "Spain                               1027\n",
       "South Africa                         838\n",
       "Switzerland                          785\n",
       "Poland                               729\n",
       "Argentina                            661\n",
       "Indonesia                            649\n",
       "Norway                               609\n",
       "Colombia                             602\n",
       "Turkey                               568\n",
       "Viet Nam                             550\n",
       "Romania                              525\n",
       "Denmark                              490\n",
       "                                   ...  \n",
       "Antigua and Barbuda                    3\n",
       "Virgin Islands (U.S.)                  3\n",
       "Bermuda                                2\n",
       "Lesotho                                2\n",
       "Fiji                                   2\n",
       "Liechtenstein                          2\n",
       "Maldives                               2\n",
       "Benin                                  2\n",
       "Burkina Faso                           2\n",
       "Gibraltar                              2\n",
       "Bhutan                                 2\n",
       "Saint Kitts and Nevis                  2\n",
       "Bonaire; Sint Eustatius; Saba          1\n",
       "Niger                                  1\n",
       "Madagascar                             1\n",
       "Turkmenistan                           1\n",
       "British Indian Ocean Territory         1\n",
       "Tajikistan                             1\n",
       "Yemen                                  1\n",
       "Cape Verde                             1\n",
       "Saint Martin                           1\n",
       "Myanmar                                1\n",
       "Burundi                                1\n",
       "Guadeloupe                             1\n",
       "Gambia                                 1\n",
       "San Marino                             1\n",
       "Vanuatu                                1\n",
       "Nauru                                  1\n",
       "Dominica                               1\n",
       "South Sudan                            1\n",
       "Name: country, Length: 182, dtype: int64"
      ]
     },
     "execution_count": 225,
     "metadata": {},
     "output_type": "execute_result"
    }
   ],
   "source": [
    "countries = []\n",
    "for i in range(len(fraud_df)):\n",
    "    ip_address = fraud_df.loc[i, 'ip_address']\n",
    "    tmp = ip_df[(ip_df['lower_bound_ip_address'] <= ip_address) &\n",
    "                          (ip_df['upper_bound_ip_address'] >= ip_address)]\n",
    "    if len(tmp) == 1:\n",
    "        countries.append(tmp['country'].values[0])\n",
    "    else:\n",
    "        countries.append('unknown')\n",
    "        \n",
    "fraud_df['country'] = countries\n",
    "fraud_df.country.value_counts()"
   ]
  },
  {
   "cell_type": "markdown",
   "metadata": {},
   "source": [
    "Use binary search to reduce the time complexity O(mlogn)"
   ]
  },
  {
   "cell_type": "code",
   "execution_count": 198,
   "metadata": {
    "ExecuteTime": {
     "end_time": "2018-12-09T05:27:58.469596Z",
     "start_time": "2018-12-09T05:27:58.426405Z"
    }
   },
   "outputs": [],
   "source": [
    "# def iplookup(ip_df, fraud_df):\n",
    "#     fraud_df['country'] = ''\n",
    "#     ip_df = ip_df.sort_values(by='lower_bound_ip_address', ascending = True)\n",
    "#     for i in range(fraud_df.shape[0]):\n",
    "#         if fraud_df.loc[i,'ip_address'] < ip_df.loc[0,'lower_bound_ip_address'] or fraud_df.loc[i,'ip_address'] > ip_df.loc[ip_df.shape[0]-1,'upper_bound_ip_address']:\n",
    "#             continue\n",
    "#         else: \n",
    "#             start = 0\n",
    "#             end = ip_df.shape[0]-1\n",
    "#             while start + 1 < end:\n",
    "#                 mid = (end - start)/2 + start\n",
    "#                 if fraud_df.loc[i,'ip_address'] >= ip_df.loc[mid,'lower_bound_ip_address'] and fraud_df.loc[i,'ip_address'] <= ip_df.loc[mid,'upper_bound_ip_address']:\n",
    "#                     fraud_df.loc[i,'country'] = ip_df.loc[mid,'country']\n",
    "#                     break\n",
    "#                 elif fraud_df.loc[i,'ip_address'] > ip_df.loc[mid,'upper_bound_ip_address']:\n",
    "#                     start = mid\n",
    "#                 else:\n",
    "#                     end = mid\n",
    "#             if fraud_df.loc[i,'ip_address'] >= ip_df.loc[end,'lower_bound_ip_address']:\n",
    "#                 fraud_df.loc[i,'country'] = ip_df.loc[end,'country']\n",
    "#             else:\n",
    "#                 fraud_df.loc[i,'country'] = ip_df.loc[start,'country']\n",
    "#     return fraud_df"
   ]
  },
  {
   "cell_type": "code",
   "execution_count": 199,
   "metadata": {
    "ExecuteTime": {
     "end_time": "2018-12-09T06:48:53.006757Z",
     "start_time": "2018-12-09T05:28:02.869125Z"
    }
   },
   "outputs": [],
   "source": [
    "# fraud_df = iplookup(ip_df, fraud_df)"
   ]
  },
  {
   "cell_type": "code",
   "execution_count": 212,
   "metadata": {
    "ExecuteTime": {
     "end_time": "2018-12-09T18:15:12.083842Z",
     "start_time": "2018-12-09T18:15:11.956134Z"
    }
   },
   "outputs": [
    {
     "name": "stderr",
     "output_type": "stream",
     "text": [
      "/Applications/anaconda2/lib/python2.7/site-packages/ipykernel_launcher.py:1: SettingWithCopyWarning: \n",
      "A value is trying to be set on a copy of a slice from a DataFrame\n",
      "\n",
      "See the caveats in the documentation: http://pandas.pydata.org/pandas-docs/stable/indexing.html#indexing-view-versus-copy\n",
      "  \"\"\"Entry point for launching an IPython kernel.\n"
     ]
    }
   ],
   "source": [
    "# fraud_df.country[fraud_df.country == ''] = 'unknown'"
   ]
  },
  {
   "cell_type": "markdown",
   "metadata": {},
   "source": [
    "## Feature Engineering\n",
    "<a id=\"fea\"></a> "
   ]
  },
  {
   "cell_type": "markdown",
   "metadata": {},
   "source": [
    "* create variables 'time_diff' = 'purchase_time' - 'signup_time'; it's suspicious that user make purchases right after signing-up.\n",
    "* create variables 'signup_week', 'signup_day', 'purchase_week', 'purchase_day'; these variables will help to capture the seasonality trend.\n",
    "* create variable 'no_ip_common', which indicates how many ip address are in common; if couple users share the same ip_address, then those users are suspecious.\n",
    "* create variable 'no_device_common', which indicates how many device are used in common by different users; if couple users share the same device_id, then those users are suspecious."
   ]
  },
  {
   "cell_type": "code",
   "execution_count": 231,
   "metadata": {
    "ExecuteTime": {
     "end_time": "2018-12-09T23:47:36.146582Z",
     "start_time": "2018-12-09T23:47:35.976182Z"
    }
   },
   "outputs": [],
   "source": [
    "# get the signup_week, signup_day, purchase_week, purchase_day\n",
    "fraud_df['signup_week'] = fraud_df['signup_time'].dt.week\n",
    "fraud_df['signup_day'] = fraud_df['signup_time'].dt.weekday_name\n",
    "fraud_df['purchase_week'] = fraud_df['purchase_time'].dt.week\n",
    "fraud_df['purchase_day'] = fraud_df['purchase_time'].dt.weekday_name"
   ]
  },
  {
   "cell_type": "code",
   "execution_count": 240,
   "metadata": {
    "ExecuteTime": {
     "end_time": "2018-12-09T23:54:44.850841Z",
     "start_time": "2018-12-09T23:54:44.835374Z"
    }
   },
   "outputs": [],
   "source": [
    "# create time_diff in seconds\n",
    "fraud_df['time_diff'] = (fraud_df.purchase_time-fraud_df.signup_time).astype('timedelta64[s]')"
   ]
  },
  {
   "cell_type": "code",
   "execution_count": 261,
   "metadata": {
    "ExecuteTime": {
     "end_time": "2018-12-10T00:16:46.397037Z",
     "start_time": "2018-12-10T00:16:46.336462Z"
    }
   },
   "outputs": [],
   "source": [
    "n_ip_shared = fraud_df.ip_address.value_counts()\n",
    "fraud_df['no_ip_common'] = fraud_df.ip_address.map(n_ip_shared)"
   ]
  },
  {
   "cell_type": "code",
   "execution_count": 263,
   "metadata": {
    "ExecuteTime": {
     "end_time": "2018-12-10T00:16:48.019362Z",
     "start_time": "2018-12-10T00:16:47.784932Z"
    }
   },
   "outputs": [],
   "source": [
    "n_dev_shared = fraud_df.device_id.value_counts()\n",
    "fraud_df['no_device_common'] = fraud_df.device_id.map(n_dev_shared)"
   ]
  },
  {
   "cell_type": "code",
   "execution_count": 268,
   "metadata": {
    "ExecuteTime": {
     "end_time": "2018-12-10T00:22:57.300280Z",
     "start_time": "2018-12-10T00:22:57.266453Z"
    }
   },
   "outputs": [],
   "source": [
    "fraud_df = fraud_df.drop(columns = ['user_id','signup_time','purchase_time','device_id','ip_address'])"
   ]
  },
  {
   "cell_type": "markdown",
   "metadata": {},
   "source": [
    "## Variable Sanity Check\n",
    "<a id=\"san\"></a> "
   ]
  },
  {
   "cell_type": "markdown",
   "metadata": {},
   "source": [
    "Check the numeric variables:"
   ]
  },
  {
   "cell_type": "code",
   "execution_count": 290,
   "metadata": {
    "ExecuteTime": {
     "end_time": "2018-12-10T00:35:28.842382Z",
     "start_time": "2018-12-10T00:35:28.671061Z"
    }
   },
   "outputs": [
    {
     "data": {
      "text/html": [
       "<div>\n",
       "<style scoped>\n",
       "    .dataframe tbody tr th:only-of-type {\n",
       "        vertical-align: middle;\n",
       "    }\n",
       "\n",
       "    .dataframe tbody tr th {\n",
       "        vertical-align: top;\n",
       "    }\n",
       "\n",
       "    .dataframe thead th {\n",
       "        text-align: right;\n",
       "    }\n",
       "</style>\n",
       "<table border=\"1\" class=\"dataframe\">\n",
       "  <thead>\n",
       "    <tr style=\"text-align: right;\">\n",
       "      <th></th>\n",
       "      <th>purchase_value</th>\n",
       "      <th>age</th>\n",
       "      <th>class</th>\n",
       "      <th>signup_week</th>\n",
       "      <th>purchase_week</th>\n",
       "      <th>time_diff</th>\n",
       "      <th>no_ip_common</th>\n",
       "      <th>no_device_common</th>\n",
       "    </tr>\n",
       "  </thead>\n",
       "  <tbody>\n",
       "    <tr>\n",
       "      <th>count</th>\n",
       "      <td>151112.000000</td>\n",
       "      <td>151112.000000</td>\n",
       "      <td>151112.000000</td>\n",
       "      <td>151112.000000</td>\n",
       "      <td>151112.000000</td>\n",
       "      <td>1.511120e+05</td>\n",
       "      <td>151112.000000</td>\n",
       "      <td>151112.000000</td>\n",
       "    </tr>\n",
       "    <tr>\n",
       "      <th>mean</th>\n",
       "      <td>36.935372</td>\n",
       "      <td>33.140704</td>\n",
       "      <td>0.093646</td>\n",
       "      <td>16.501740</td>\n",
       "      <td>24.658571</td>\n",
       "      <td>4.932029e+06</td>\n",
       "      <td>1.602719</td>\n",
       "      <td>1.684367</td>\n",
       "    </tr>\n",
       "    <tr>\n",
       "      <th>std</th>\n",
       "      <td>18.322762</td>\n",
       "      <td>8.617733</td>\n",
       "      <td>0.291336</td>\n",
       "      <td>9.814287</td>\n",
       "      <td>11.651557</td>\n",
       "      <td>3.126263e+06</td>\n",
       "      <td>2.596240</td>\n",
       "      <td>2.616954</td>\n",
       "    </tr>\n",
       "    <tr>\n",
       "      <th>min</th>\n",
       "      <td>9.000000</td>\n",
       "      <td>18.000000</td>\n",
       "      <td>0.000000</td>\n",
       "      <td>1.000000</td>\n",
       "      <td>1.000000</td>\n",
       "      <td>1.000000e+00</td>\n",
       "      <td>1.000000</td>\n",
       "      <td>1.000000</td>\n",
       "    </tr>\n",
       "    <tr>\n",
       "      <th>25%</th>\n",
       "      <td>22.000000</td>\n",
       "      <td>27.000000</td>\n",
       "      <td>0.000000</td>\n",
       "      <td>8.000000</td>\n",
       "      <td>16.000000</td>\n",
       "      <td>2.186754e+06</td>\n",
       "      <td>1.000000</td>\n",
       "      <td>1.000000</td>\n",
       "    </tr>\n",
       "    <tr>\n",
       "      <th>50%</th>\n",
       "      <td>35.000000</td>\n",
       "      <td>33.000000</td>\n",
       "      <td>0.000000</td>\n",
       "      <td>16.000000</td>\n",
       "      <td>25.000000</td>\n",
       "      <td>4.926346e+06</td>\n",
       "      <td>1.000000</td>\n",
       "      <td>1.000000</td>\n",
       "    </tr>\n",
       "    <tr>\n",
       "      <th>75%</th>\n",
       "      <td>49.000000</td>\n",
       "      <td>39.000000</td>\n",
       "      <td>0.000000</td>\n",
       "      <td>25.000000</td>\n",
       "      <td>34.000000</td>\n",
       "      <td>7.644524e+06</td>\n",
       "      <td>1.000000</td>\n",
       "      <td>1.000000</td>\n",
       "    </tr>\n",
       "    <tr>\n",
       "      <th>max</th>\n",
       "      <td>154.000000</td>\n",
       "      <td>76.000000</td>\n",
       "      <td>1.000000</td>\n",
       "      <td>34.000000</td>\n",
       "      <td>51.000000</td>\n",
       "      <td>1.036797e+07</td>\n",
       "      <td>20.000000</td>\n",
       "      <td>20.000000</td>\n",
       "    </tr>\n",
       "  </tbody>\n",
       "</table>\n",
       "</div>"
      ],
      "text/plain": [
       "       purchase_value            age          class    signup_week  \\\n",
       "count   151112.000000  151112.000000  151112.000000  151112.000000   \n",
       "mean        36.935372      33.140704       0.093646      16.501740   \n",
       "std         18.322762       8.617733       0.291336       9.814287   \n",
       "min          9.000000      18.000000       0.000000       1.000000   \n",
       "25%         22.000000      27.000000       0.000000       8.000000   \n",
       "50%         35.000000      33.000000       0.000000      16.000000   \n",
       "75%         49.000000      39.000000       0.000000      25.000000   \n",
       "max        154.000000      76.000000       1.000000      34.000000   \n",
       "\n",
       "       purchase_week     time_diff   no_ip_common  no_device_common  \n",
       "count  151112.000000  1.511120e+05  151112.000000     151112.000000  \n",
       "mean       24.658571  4.932029e+06       1.602719          1.684367  \n",
       "std        11.651557  3.126263e+06       2.596240          2.616954  \n",
       "min         1.000000  1.000000e+00       1.000000          1.000000  \n",
       "25%        16.000000  2.186754e+06       1.000000          1.000000  \n",
       "50%        25.000000  4.926346e+06       1.000000          1.000000  \n",
       "75%        34.000000  7.644524e+06       1.000000          1.000000  \n",
       "max        51.000000  1.036797e+07      20.000000         20.000000  "
      ]
     },
     "execution_count": 290,
     "metadata": {},
     "output_type": "execute_result"
    }
   ],
   "source": [
    "fraud_df.describe()"
   ]
  },
  {
   "cell_type": "markdown",
   "metadata": {
    "ExecuteTime": {
     "end_time": "2018-12-10T00:28:04.195848Z",
     "start_time": "2018-12-10T00:28:04.178147Z"
    }
   },
   "source": [
    "Check the categorical variables:"
   ]
  },
  {
   "cell_type": "code",
   "execution_count": 273,
   "metadata": {
    "ExecuteTime": {
     "end_time": "2018-12-10T00:25:53.846519Z",
     "start_time": "2018-12-10T00:25:53.806184Z"
    }
   },
   "outputs": [
    {
     "data": {
      "text/plain": [
       "SEO       60615\n",
       "Ads       59881\n",
       "Direct    30616\n",
       "Name: source, dtype: int64"
      ]
     },
     "execution_count": 273,
     "metadata": {},
     "output_type": "execute_result"
    }
   ],
   "source": [
    "fraud_df.source.value_counts()"
   ]
  },
  {
   "cell_type": "code",
   "execution_count": 275,
   "metadata": {
    "ExecuteTime": {
     "end_time": "2018-12-10T00:26:24.233296Z",
     "start_time": "2018-12-10T00:26:24.173855Z"
    }
   },
   "outputs": [
    {
     "data": {
      "text/plain": [
       "Chrome     61432\n",
       "IE         36727\n",
       "Safari     24667\n",
       "FireFox    24610\n",
       "Opera       3676\n",
       "Name: browser, dtype: int64"
      ]
     },
     "execution_count": 275,
     "metadata": {},
     "output_type": "execute_result"
    }
   ],
   "source": [
    "fraud_df.browser.value_counts()"
   ]
  },
  {
   "cell_type": "code",
   "execution_count": 277,
   "metadata": {
    "ExecuteTime": {
     "end_time": "2018-12-10T00:28:24.435377Z",
     "start_time": "2018-12-10T00:28:24.390747Z"
    }
   },
   "outputs": [
    {
     "data": {
      "text/plain": [
       "M    88293\n",
       "F    62819\n",
       "Name: sex, dtype: int64"
      ]
     },
     "execution_count": 277,
     "metadata": {},
     "output_type": "execute_result"
    }
   ],
   "source": [
    "fraud_df.sex.value_counts()"
   ]
  },
  {
   "cell_type": "markdown",
   "metadata": {},
   "source": [
    "Imbalanced Classes: will need oversampling of the minority class."
   ]
  },
  {
   "cell_type": "code",
   "execution_count": 288,
   "metadata": {
    "ExecuteTime": {
     "end_time": "2018-12-10T00:32:37.044620Z",
     "start_time": "2018-12-10T00:32:37.028669Z"
    }
   },
   "outputs": [
    {
     "data": {
      "text/plain": [
       "0    136961\n",
       "1     14151\n",
       "Name: class, dtype: int64"
      ]
     },
     "execution_count": 288,
     "metadata": {},
     "output_type": "execute_result"
    }
   ],
   "source": [
    "fraud_df['class'].value_counts()"
   ]
  },
  {
   "cell_type": "markdown",
   "metadata": {
    "ExecuteTime": {
     "end_time": "2018-12-10T00:00:10.828453Z",
     "start_time": "2018-12-10T00:00:10.753543Z"
    }
   },
   "source": [
    "# Fraudulent Activity Prediction\n",
    "<a id=\"pred\"></a> "
   ]
  },
  {
   "cell_type": "code",
   "execution_count": 393,
   "metadata": {
    "ExecuteTime": {
     "end_time": "2018-12-10T16:43:32.870859Z",
     "start_time": "2018-12-10T16:43:32.848871Z"
    }
   },
   "outputs": [],
   "source": [
    "# Split the data into training and testing data\n",
    "# from sklearn.model_selection import train_test_split\n",
    "# random_state = 42\n",
    "# X_train, X_test, y_train, y_test = train_test_split(fraud_df.loc[:,fraud_df.columns!='class'],\n",
    "#                                                     fraud_df['class'], test_size=0.33, random_state=42)"
   ]
  },
  {
   "cell_type": "markdown",
   "metadata": {},
   "source": [
    "https://github.com/h2oai/h2o-tutorials/blob/master/SUMMARY.md"
   ]
  },
  {
   "cell_type": "code",
   "execution_count": 394,
   "metadata": {
    "ExecuteTime": {
     "end_time": "2018-12-10T16:43:35.863653Z",
     "start_time": "2018-12-10T16:43:35.545883Z"
    }
   },
   "outputs": [
    {
     "name": "stdout",
     "output_type": "stream",
     "text": [
      "Checking whether there is an H2O instance running at http://localhost:54321. connected.\n"
     ]
    },
    {
     "data": {
      "text/html": [
       "<div style=\"overflow:auto\"><table style=\"width:50%\"><tr><td>H2O cluster uptime:</td>\n",
       "<td>14 hours 18 mins</td></tr>\n",
       "<tr><td>H2O cluster timezone:</td>\n",
       "<td>America/Los_Angeles</td></tr>\n",
       "<tr><td>H2O data parsing timezone:</td>\n",
       "<td>UTC</td></tr>\n",
       "<tr><td>H2O cluster version:</td>\n",
       "<td>3.22.0.2</td></tr>\n",
       "<tr><td>H2O cluster version age:</td>\n",
       "<td>18 days </td></tr>\n",
       "<tr><td>H2O cluster name:</td>\n",
       "<td>H2O_from_python_dannichen_ptrp6z</td></tr>\n",
       "<tr><td>H2O cluster total nodes:</td>\n",
       "<td>1</td></tr>\n",
       "<tr><td>H2O cluster free memory:</td>\n",
       "<td>1.825 Gb</td></tr>\n",
       "<tr><td>H2O cluster total cores:</td>\n",
       "<td>4</td></tr>\n",
       "<tr><td>H2O cluster allowed cores:</td>\n",
       "<td>4</td></tr>\n",
       "<tr><td>H2O cluster status:</td>\n",
       "<td>locked, healthy</td></tr>\n",
       "<tr><td>H2O connection url:</td>\n",
       "<td>http://localhost:54321</td></tr>\n",
       "<tr><td>H2O connection proxy:</td>\n",
       "<td>None</td></tr>\n",
       "<tr><td>H2O internal security:</td>\n",
       "<td>False</td></tr>\n",
       "<tr><td>H2O API Extensions:</td>\n",
       "<td>XGBoost, Algos, AutoML, Core V3, Core V4</td></tr>\n",
       "<tr><td>Python version:</td>\n",
       "<td>2.7.15 final</td></tr></table></div>"
      ],
      "text/plain": [
       "--------------------------  ----------------------------------------\n",
       "H2O cluster uptime:         14 hours 18 mins\n",
       "H2O cluster timezone:       America/Los_Angeles\n",
       "H2O data parsing timezone:  UTC\n",
       "H2O cluster version:        3.22.0.2\n",
       "H2O cluster version age:    18 days\n",
       "H2O cluster name:           H2O_from_python_dannichen_ptrp6z\n",
       "H2O cluster total nodes:    1\n",
       "H2O cluster free memory:    1.825 Gb\n",
       "H2O cluster total cores:    4\n",
       "H2O cluster allowed cores:  4\n",
       "H2O cluster status:         locked, healthy\n",
       "H2O connection url:         http://localhost:54321\n",
       "H2O connection proxy:\n",
       "H2O internal security:      False\n",
       "H2O API Extensions:         XGBoost, Algos, AutoML, Core V3, Core V4\n",
       "Python version:             2.7.15 final\n",
       "--------------------------  ----------------------------------------"
      ]
     },
     "metadata": {},
     "output_type": "display_data"
    }
   ],
   "source": [
    "import h2o\n",
    "from h2o.frame import H2OFrame\n",
    "from h2o.estimators.random_forest import H2ORandomForestEstimator\n",
    "h2o.init()"
   ]
  },
  {
   "cell_type": "code",
   "execution_count": 395,
   "metadata": {
    "ExecuteTime": {
     "end_time": "2018-12-10T16:43:52.538666Z",
     "start_time": "2018-12-10T16:43:42.391466Z"
    }
   },
   "outputs": [
    {
     "name": "stdout",
     "output_type": "stream",
     "text": [
      "Parse progress: |█████████████████████████████████████████████████████████| 100%\n",
      "Rows:151112\n",
      "Cols:14\n",
      "\n",
      "\n"
     ]
    },
    {
     "data": {
      "text/html": [
       "<table>\n",
       "<thead>\n",
       "<tr><th>       </th><th>purchase_value  </th><th>source  </th><th>browser  </th><th>sex  </th><th>age          </th><th>class  </th><th>country      </th><th>signup_week  </th><th>signup_day  </th><th>purchase_week  </th><th>purchase_day  </th><th>time_diff    </th><th>no_ip_common  </th><th>no_device_common  </th></tr>\n",
       "</thead>\n",
       "<tbody>\n",
       "<tr><td>type   </td><td>int             </td><td>enum    </td><td>enum     </td><td>enum </td><td>int          </td><td>enum   </td><td>enum         </td><td>int          </td><td>enum        </td><td>int            </td><td>enum          </td><td>int          </td><td>int           </td><td>int               </td></tr>\n",
       "<tr><td>mins   </td><td>9.0             </td><td>        </td><td>         </td><td>     </td><td>18.0         </td><td>       </td><td>             </td><td>1.0          </td><td>            </td><td>1.0            </td><td>              </td><td>1.0          </td><td>1.0           </td><td>1.0               </td></tr>\n",
       "<tr><td>mean   </td><td>36.935372439    </td><td>        </td><td>         </td><td>     </td><td>33.1407035841</td><td>       </td><td>             </td><td>16.5017404309</td><td>            </td><td>24.6585711261  </td><td>              </td><td>4932029.24862</td><td>1.60271851342 </td><td>1.68436656255     </td></tr>\n",
       "<tr><td>maxs   </td><td>154.0           </td><td>        </td><td>         </td><td>     </td><td>76.0         </td><td>       </td><td>             </td><td>34.0         </td><td>            </td><td>51.0           </td><td>              </td><td>10367972.0   </td><td>20.0          </td><td>20.0              </td></tr>\n",
       "<tr><td>sigma  </td><td>18.3227621487   </td><td>        </td><td>         </td><td>     </td><td>8.61773349096</td><td>       </td><td>             </td><td>9.8142874618 </td><td>            </td><td>11.6515567827  </td><td>              </td><td>3126263.11844</td><td>2.59623952738 </td><td>2.6169536028      </td></tr>\n",
       "<tr><td>zeros  </td><td>0               </td><td>        </td><td>         </td><td>     </td><td>0            </td><td>       </td><td>             </td><td>0            </td><td>            </td><td>0              </td><td>              </td><td>0            </td><td>0             </td><td>0                 </td></tr>\n",
       "<tr><td>missing</td><td>0               </td><td>0       </td><td>0        </td><td>0    </td><td>0            </td><td>0      </td><td>0            </td><td>0            </td><td>0           </td><td>0              </td><td>0             </td><td>0            </td><td>0             </td><td>0                 </td></tr>\n",
       "<tr><td>0      </td><td>34.0            </td><td>SEO     </td><td>Chrome   </td><td>M    </td><td>39.0         </td><td>0      </td><td>Japan        </td><td>9.0          </td><td>Tuesday     </td><td>16.0           </td><td>Saturday      </td><td>4506682.0    </td><td>1.0           </td><td>1.0               </td></tr>\n",
       "<tr><td>1      </td><td>16.0            </td><td>Ads     </td><td>Chrome   </td><td>F    </td><td>53.0         </td><td>0      </td><td>United States</td><td>23.0         </td><td>Sunday      </td><td>24.0           </td><td>Monday        </td><td>17944.0      </td><td>1.0           </td><td>1.0               </td></tr>\n",
       "<tr><td>2      </td><td>15.0            </td><td>SEO     </td><td>Opera    </td><td>M    </td><td>53.0         </td><td>1      </td><td>United States</td><td>1.0          </td><td>Thursday    </td><td>1.0            </td><td>Thursday      </td><td>1.0          </td><td>12.0          </td><td>12.0              </td></tr>\n",
       "<tr><td>3      </td><td>44.0            </td><td>SEO     </td><td>Safari   </td><td>M    </td><td>41.0         </td><td>0      </td><td>unknown      </td><td>18.0         </td><td>Tuesday     </td><td>19.0           </td><td>Monday        </td><td>492085.0     </td><td>1.0           </td><td>1.0               </td></tr>\n",
       "<tr><td>4      </td><td>39.0            </td><td>Ads     </td><td>Safari   </td><td>M    </td><td>45.0         </td><td>0      </td><td>United States</td><td>30.0         </td><td>Tuesday     </td><td>37.0           </td><td>Wednesday     </td><td>4361461.0    </td><td>1.0           </td><td>1.0               </td></tr>\n",
       "<tr><td>5      </td><td>42.0            </td><td>Ads     </td><td>Chrome   </td><td>M    </td><td>18.0         </td><td>0      </td><td>Canada       </td><td>21.0         </td><td>Thursday    </td><td>28.0           </td><td>Thursday      </td><td>4240931.0    </td><td>1.0           </td><td>1.0               </td></tr>\n",
       "<tr><td>6      </td><td>11.0            </td><td>Ads     </td><td>Chrome   </td><td>F    </td><td>19.0         </td><td>0      </td><td>unknown      </td><td>31.0         </td><td>Saturday    </td><td>35.0           </td><td>Thursday      </td><td>2177825.0    </td><td>1.0           </td><td>1.0               </td></tr>\n",
       "<tr><td>7      </td><td>27.0            </td><td>Ads     </td><td>Opera    </td><td>M    </td><td>34.0         </td><td>0      </td><td>United States</td><td>15.0         </td><td>Monday      </td><td>22.0           </td><td>Monday        </td><td>4268729.0    </td><td>1.0           </td><td>1.0               </td></tr>\n",
       "<tr><td>8      </td><td>30.0            </td><td>SEO     </td><td>IE       </td><td>F    </td><td>43.0         </td><td>0      </td><td>China        </td><td>17.0         </td><td>Tuesday     </td><td>23.0           </td><td>Tuesday       </td><td>3594200.0    </td><td>1.0           </td><td>1.0               </td></tr>\n",
       "<tr><td>9      </td><td>62.0            </td><td>Ads     </td><td>IE       </td><td>M    </td><td>31.0         </td><td>0      </td><td>United States</td><td>4.0          </td><td>Sunday      </td><td>13.0           </td><td>Monday        </td><td>4943753.0    </td><td>1.0           </td><td>1.0               </td></tr>\n",
       "</tbody>\n",
       "</table>"
      ]
     },
     "metadata": {},
     "output_type": "display_data"
    }
   ],
   "source": [
    "# Transform data to H2O Frame, and make sure the target variable is categorical\n",
    "h2o_df = h2o.H2OFrame(fraud_df)\n",
    "h2o_df['class'] = h2o_df['class'].asfactor()\n",
    "h2o_df.describe()"
   ]
  },
  {
   "cell_type": "code",
   "execution_count": 396,
   "metadata": {
    "ExecuteTime": {
     "end_time": "2018-12-10T16:43:52.904323Z",
     "start_time": "2018-12-10T16:43:52.547911Z"
    }
   },
   "outputs": [],
   "source": [
    "# Split data into training and testing\n",
    "train,test,valid = h2o_df.split_frame(ratios=[0.7,0.15])\n",
    "feature = h2o_df.columns\n",
    "target = \"class\"\n",
    "feature.remove(target)"
   ]
  },
  {
   "cell_type": "markdown",
   "metadata": {},
   "source": [
    "## Grid Search Hyper-parameters\n",
    "<a id=\"hyper\"></a> "
   ]
  },
  {
   "cell_type": "code",
   "execution_count": 398,
   "metadata": {
    "ExecuteTime": {
     "end_time": "2018-12-10T16:50:13.305461Z",
     "start_time": "2018-12-10T16:45:02.650589Z"
    }
   },
   "outputs": [
    {
     "name": "stdout",
     "output_type": "stream",
     "text": [
      "drf Grid Build progress: |████████████████████████████████████████████████| 100%\n"
     ]
    },
    {
     "data": {
      "text/plain": [
       "0.8689232693256981"
      ]
     },
     "execution_count": 398,
     "metadata": {},
     "output_type": "execute_result"
    }
   ],
   "source": [
    "from h2o.grid.grid_search import H2OGridSearch\n",
    "\n",
    "# DRF hyperparameters\n",
    "drf_params1 = {'ntrees': [100, 150, 200],\n",
    "                'max_depth': [4, 7, 10],\n",
    "                'sample_rate': [0.6, 0.7, 0.8],\n",
    "                'col_sample_rate_per_tree': [0.6, 0.8, 1.0]}\n",
    "\n",
    "# Train and validate a cartesian grid of DRFs\n",
    "drf_grid1 = H2OGridSearch(model=H2ORandomForestEstimator,\n",
    "                          grid_id='drf_grid1',\n",
    "                          hyper_params=drf_params1)\n",
    "\n",
    "drf_grid1.train(x=feature, y=target,\n",
    "                training_frame=train,\n",
    "                validation_frame=valid,\n",
    "                balance_classes=True,\n",
    "                stopping_rounds=5, \n",
    "                mtries=-1, \n",
    "                stopping_metric='auc', \n",
    "                score_each_iteration=True, \n",
    "                seed=42)\n",
    "\n",
    "# Get the grid results, sorted by validation AUC\n",
    "drf_gridperf1 = drf_grid1.get_grid(sort_by='auc', decreasing=True)\n",
    "drf_gridperf1\n",
    "\n",
    "# Grab the top DRF model, chosen by validation AUC\n",
    "best_drf1 = drf_gridperf1.models[0]\n",
    "\n",
    "# Now let's evaluate the model performance on a test set\n",
    "# so we get an honest estimate of top model performance\n",
    "best_drf_perf1 = best_drf1.model_performance(test)\n",
    "\n",
    "best_drf_perf1.auc()  # 0.8689232693256981"
   ]
  },
  {
   "cell_type": "code",
   "execution_count": 401,
   "metadata": {
    "ExecuteTime": {
     "end_time": "2018-12-10T17:25:22.700445Z",
     "start_time": "2018-12-10T17:25:22.617663Z"
    }
   },
   "outputs": [
    {
     "name": "stdout",
     "output_type": "stream",
     "text": [
      "       col_sample_rate_per_tree max_depth ntrees sample_rate  \\\n",
      "0                           1.0         4    200         0.5   \n",
      "1                           1.0         4    150         0.5   \n",
      "2                           1.0         4    250         0.5   \n",
      "3                           1.0         4    150         0.4   \n",
      "4                           1.0         4    250         0.4   \n",
      "5                           1.0         4    150         0.4   \n",
      "6                           1.0         4    200         0.4   \n",
      "7                           1.0         3    250         0.5   \n",
      "8                           1.0         3    150         0.5   \n",
      "9                           1.0         3    200         0.5   \n",
      "10                          1.0         4    100         0.6   \n",
      "11                          1.0         4     50         0.6   \n",
      "12                          1.0         4    150         0.6   \n",
      "13                          1.0         4    250         0.6   \n",
      "14                          1.0         4    200         0.6   \n",
      "15                          1.0         3    150         0.7   \n",
      "16                          1.0         3    200         0.7   \n",
      "17                          1.0         3    250         0.7   \n",
      "18                          1.0         5    150         0.4   \n",
      "19                          1.0         5    200         0.4   \n",
      "20                          1.0         5    250         0.4   \n",
      "21                          1.0         4     50         0.8   \n",
      "22                          1.0         4    100         0.8   \n",
      "23                          1.0         4    150         0.8   \n",
      "24                          1.0         7    150         0.8   \n",
      "25                          1.0         7     50         0.8   \n",
      "26                          1.0         7    100         0.8   \n",
      "27                          0.3        10     50         0.6   \n",
      "28                          0.3        10    150         0.6   \n",
      "29                          0.3        10    100         0.6   \n",
      "..  ..                      ...       ...    ...         ...   \n",
      "218                         0.9         3    150         0.4   \n",
      "219                         0.9         3    200         0.4   \n",
      "220                         0.9         3    250         0.4   \n",
      "221                         0.8         7    200         0.8   \n",
      "222                         0.8         7    150         0.8   \n",
      "223                         0.8         7    100         0.8   \n",
      "224                         0.9         4    200         0.4   \n",
      "225                         0.9         4    250         0.4   \n",
      "226                         0.9         4    150         0.4   \n",
      "227                         1.0         3    150         0.4   \n",
      "228                         1.0         3    200         0.4   \n",
      "229                         1.0         3    250         0.4   \n",
      "230                         1.0         7    150         0.7   \n",
      "231                         1.0         7    200         0.7   \n",
      "232                         1.0         7    100         0.7   \n",
      "233                         0.8         4    150         0.7   \n",
      "234                         0.8         4    100         0.7   \n",
      "235                         0.8         4    200         0.7   \n",
      "236                         0.9         4    150         0.6   \n",
      "237                         0.9         4    250         0.6   \n",
      "238                         0.9         4    200         0.6   \n",
      "239                         0.9         5    250         0.4   \n",
      "240                         0.9         5    150         0.4   \n",
      "241                         0.9         5    200         0.4   \n",
      "242                         0.9         5    250         0.5   \n",
      "243                         0.9         5    150         0.5   \n",
      "244                         0.9         5    200         0.5   \n",
      "245                         0.6        10    100         0.6   \n",
      "246                         0.6        10     50         0.6   \n",
      "247                         0.6        10    150         0.6   \n",
      "\n",
      "               model_ids                 auc  \n",
      "0     drf_grid1_model_86   0.849271619932221  \n",
      "1     drf_grid1_model_83   0.849271619932221  \n",
      "2     drf_grid1_model_89   0.849271619932221  \n",
      "3    drf_grid1_model_108  0.8487535367784838  \n",
      "4    drf_grid1_model_114  0.8487535367784838  \n",
      "5    drf_grid1_model_108  0.8487535367784838  \n",
      "6    drf_grid1_model_111  0.8487535367784838  \n",
      "7     drf_grid1_model_88  0.8482003280280714  \n",
      "8     drf_grid1_model_82  0.8482003280280714  \n",
      "9     drf_grid1_model_85  0.8482003280280714  \n",
      "10    drf_grid1_model_12  0.8481387113692147  \n",
      "11     drf_grid1_model_3  0.8481387113692147  \n",
      "12    drf_grid1_model_21  0.8481387113692147  \n",
      "13    drf_grid1_model_98  0.8481387113692147  \n",
      "14    drf_grid1_model_95  0.8481387113692147  \n",
      "15   drf_grid1_model_100  0.8480353075536947  \n",
      "16   drf_grid1_model_103  0.8480353075536947  \n",
      "17   drf_grid1_model_106  0.8480353075536947  \n",
      "18   drf_grid1_model_109  0.8476242748930748  \n",
      "19   drf_grid1_model_112  0.8476242748930748  \n",
      "20   drf_grid1_model_115  0.8476242748930748  \n",
      "21    drf_grid1_model_57  0.8475754160637455  \n",
      "22    drf_grid1_model_66  0.8475754160637455  \n",
      "23    drf_grid1_model_75  0.8475754160637455  \n",
      "24    drf_grid1_model_78  0.8473701934627862  \n",
      "25    drf_grid1_model_60  0.8473701934627862  \n",
      "26    drf_grid1_model_69  0.8473701934627862  \n",
      "27     drf_grid1_model_7  0.8473324963487779  \n",
      "28    drf_grid1_model_25  0.8473324963487779  \n",
      "29    drf_grid1_model_16  0.8473324963487779  \n",
      "..                   ...                 ...  \n",
      "218  drf_grid1_model_198  0.8386310846552173  \n",
      "219  drf_grid1_model_204  0.8386310846552173  \n",
      "220  drf_grid1_model_210  0.8386310846552173  \n",
      "221  drf_grid1_model_192  0.8385948588857304  \n",
      "222  drf_grid1_model_183  0.8385948588857304  \n",
      "223  drf_grid1_model_174  0.8385948588857304  \n",
      "224  drf_grid1_model_206  0.8382627068875093  \n",
      "225  drf_grid1_model_212  0.8382627068875093  \n",
      "226  drf_grid1_model_200  0.8382627068875093  \n",
      "227  drf_grid1_model_197  0.8381231301135538  \n",
      "228  drf_grid1_model_203  0.8381231301135538  \n",
      "229  drf_grid1_model_209  0.8381231301135538  \n",
      "230  drf_grid1_model_157  0.8380002569970437  \n",
      "231  drf_grid1_model_166  0.8380002569970437  \n",
      "232  drf_grid1_model_148  0.8380002569970437  \n",
      "233  drf_grid1_model_153  0.8379439684323883  \n",
      "234  drf_grid1_model_144  0.8379439684323883  \n",
      "235  drf_grid1_model_162  0.8379439684323883  \n",
      "236  drf_grid1_model_236  0.8378732539817574  \n",
      "237  drf_grid1_model_248  0.8378732539817574  \n",
      "238  drf_grid1_model_242  0.8378732539817574  \n",
      "239  drf_grid1_model_214  0.8375565517162836  \n",
      "240  drf_grid1_model_202  0.8375565517162836  \n",
      "241  drf_grid1_model_208  0.8375565517162836  \n",
      "242  drf_grid1_model_232  0.8374504512805965  \n",
      "243  drf_grid1_model_220  0.8374504512805965  \n",
      "244  drf_grid1_model_226  0.8374504512805965  \n",
      "245   drf_grid1_model_17  0.8368751772628921  \n",
      "246    drf_grid1_model_8  0.8368751772628921  \n",
      "247   drf_grid1_model_26  0.8368751772628921  \n",
      "\n",
      "[248 rows x 7 columns]\n"
     ]
    },
    {
     "data": {
      "text/plain": []
     },
     "execution_count": 401,
     "metadata": {},
     "output_type": "execute_result"
    }
   ],
   "source": [
    "drf_gridperf1"
   ]
  },
  {
   "cell_type": "markdown",
   "metadata": {
    "ExecuteTime": {
     "end_time": "2018-12-10T05:35:46.276488Z",
     "start_time": "2018-12-10T05:35:46.160544Z"
    }
   },
   "source": [
    "Fine-tunning hyperparameters"
   ]
  },
  {
   "cell_type": "code",
   "execution_count": 400,
   "metadata": {
    "ExecuteTime": {
     "end_time": "2018-12-10T17:24:05.632462Z",
     "start_time": "2018-12-10T17:19:52.849115Z"
    }
   },
   "outputs": [
    {
     "name": "stdout",
     "output_type": "stream",
     "text": [
      "drf Grid Build progress: |████████████████████████████████████████████████| 100%\n"
     ]
    },
    {
     "data": {
      "text/plain": [
       "0.8689232693256981"
      ]
     },
     "execution_count": 400,
     "metadata": {},
     "output_type": "execute_result"
    }
   ],
   "source": [
    "# DRF hyperparameters\n",
    "drf_params1 = {'ntrees': [150, 200, 250],\n",
    "                'max_depth': [3, 4, 5],\n",
    "                'sample_rate': [0.4, 0.5, 0.6],\n",
    "                'col_sample_rate_per_tree': [1.0, 0.9]}\n",
    "\n",
    "# Train and validate a cartesian grid of DRFs\n",
    "drf_grid1 = H2OGridSearch(model=H2ORandomForestEstimator,\n",
    "                          grid_id='drf_grid1',\n",
    "                          hyper_params=drf_params1)\n",
    "\n",
    "drf_grid1.train(x=feature, y=target,\n",
    "                training_frame=train,\n",
    "                validation_frame=valid,\n",
    "                balance_classes=True,\n",
    "                stopping_rounds=5, \n",
    "                mtries=-1, \n",
    "                stopping_metric='auc', \n",
    "                score_each_iteration=True, \n",
    "                seed=42)\n",
    "\n",
    "# Get the grid results, sorted by validation AUC\n",
    "drf_gridperf1 = drf_grid1.get_grid(sort_by='auc', decreasing=True)\n",
    "drf_gridperf1\n",
    "\n",
    "# Grab the top DRF model, chosen by validation AUC\n",
    "best_drf1 = drf_gridperf1.models[0]\n",
    "\n",
    "# Now let's evaluate the model performance on a test set\n",
    "# so we get an honest estimate of top model performance\n",
    "best_drf_perf1 = best_drf1.model_performance(test)\n",
    "\n",
    "best_drf_perf1.auc()  # 0.8689232693256981"
   ]
  },
  {
   "cell_type": "markdown",
   "metadata": {},
   "source": [
    "## Optimal Random Forest Model\n",
    "<a id=\"opt\"></a> "
   ]
  },
  {
   "cell_type": "code",
   "execution_count": 403,
   "metadata": {
    "ExecuteTime": {
     "end_time": "2018-12-10T17:26:08.571149Z",
     "start_time": "2018-12-10T17:26:02.480376Z"
    }
   },
   "outputs": [
    {
     "name": "stdout",
     "output_type": "stream",
     "text": [
      "drf Model Build progress: |███████████████████████████████████████████████| 100%\n"
     ]
    },
    {
     "data": {
      "text/html": [
       "<div>\n",
       "<style scoped>\n",
       "    .dataframe tbody tr th:only-of-type {\n",
       "        vertical-align: middle;\n",
       "    }\n",
       "\n",
       "    .dataframe tbody tr th {\n",
       "        vertical-align: top;\n",
       "    }\n",
       "\n",
       "    .dataframe thead th {\n",
       "        text-align: right;\n",
       "    }\n",
       "</style>\n",
       "<table border=\"1\" class=\"dataframe\">\n",
       "  <thead>\n",
       "    <tr style=\"text-align: right;\">\n",
       "      <th></th>\n",
       "      <th></th>\n",
       "      <th>timestamp</th>\n",
       "      <th>duration</th>\n",
       "      <th>number_of_trees</th>\n",
       "      <th>training_rmse</th>\n",
       "      <th>training_logloss</th>\n",
       "      <th>training_auc</th>\n",
       "      <th>training_pr_auc</th>\n",
       "      <th>training_lift</th>\n",
       "      <th>training_classification_error</th>\n",
       "      <th>validation_rmse</th>\n",
       "      <th>validation_logloss</th>\n",
       "      <th>validation_auc</th>\n",
       "      <th>validation_pr_auc</th>\n",
       "      <th>validation_lift</th>\n",
       "      <th>validation_classification_error</th>\n",
       "    </tr>\n",
       "  </thead>\n",
       "  <tbody>\n",
       "    <tr>\n",
       "      <th>0</th>\n",
       "      <td></td>\n",
       "      <td>2018-12-10 09:26:02</td>\n",
       "      <td>0.063 sec</td>\n",
       "      <td>0.0</td>\n",
       "      <td>NaN</td>\n",
       "      <td>NaN</td>\n",
       "      <td>NaN</td>\n",
       "      <td>NaN</td>\n",
       "      <td>NaN</td>\n",
       "      <td>NaN</td>\n",
       "      <td>NaN</td>\n",
       "      <td>NaN</td>\n",
       "      <td>NaN</td>\n",
       "      <td>NaN</td>\n",
       "      <td>NaN</td>\n",
       "      <td>NaN</td>\n",
       "    </tr>\n",
       "    <tr>\n",
       "      <th>1</th>\n",
       "      <td></td>\n",
       "      <td>2018-12-10 09:26:02</td>\n",
       "      <td>0.331 sec</td>\n",
       "      <td>1.0</td>\n",
       "      <td>0.459971</td>\n",
       "      <td>0.735167</td>\n",
       "      <td>0.775024</td>\n",
       "      <td>0.315572</td>\n",
       "      <td>2.000063</td>\n",
       "      <td>0.231311</td>\n",
       "      <td>0.199842</td>\n",
       "      <td>0.171414</td>\n",
       "      <td>0.774285</td>\n",
       "      <td>0.142666</td>\n",
       "      <td>10.93906</td>\n",
       "      <td>0.041672</td>\n",
       "    </tr>\n",
       "    <tr>\n",
       "      <th>2</th>\n",
       "      <td></td>\n",
       "      <td>2018-12-10 09:26:02</td>\n",
       "      <td>0.448 sec</td>\n",
       "      <td>2.0</td>\n",
       "      <td>0.460106</td>\n",
       "      <td>0.735705</td>\n",
       "      <td>0.776137</td>\n",
       "      <td>0.663650</td>\n",
       "      <td>2.000063</td>\n",
       "      <td>0.231580</td>\n",
       "      <td>0.199657</td>\n",
       "      <td>0.171288</td>\n",
       "      <td>0.775601</td>\n",
       "      <td>0.189036</td>\n",
       "      <td>10.93906</td>\n",
       "      <td>0.041672</td>\n",
       "    </tr>\n",
       "    <tr>\n",
       "      <th>3</th>\n",
       "      <td></td>\n",
       "      <td>2018-12-10 09:26:03</td>\n",
       "      <td>0.573 sec</td>\n",
       "      <td>3.0</td>\n",
       "      <td>0.454194</td>\n",
       "      <td>0.706696</td>\n",
       "      <td>0.833144</td>\n",
       "      <td>0.651257</td>\n",
       "      <td>2.000063</td>\n",
       "      <td>0.199132</td>\n",
       "      <td>0.197210</td>\n",
       "      <td>0.162268</td>\n",
       "      <td>0.851951</td>\n",
       "      <td>0.231886</td>\n",
       "      <td>10.93906</td>\n",
       "      <td>0.041716</td>\n",
       "    </tr>\n",
       "    <tr>\n",
       "      <th>4</th>\n",
       "      <td></td>\n",
       "      <td>2018-12-10 09:26:03</td>\n",
       "      <td>0.680 sec</td>\n",
       "      <td>4.0</td>\n",
       "      <td>0.453620</td>\n",
       "      <td>0.703235</td>\n",
       "      <td>0.837962</td>\n",
       "      <td>0.777515</td>\n",
       "      <td>2.000063</td>\n",
       "      <td>0.193374</td>\n",
       "      <td>0.196792</td>\n",
       "      <td>0.161252</td>\n",
       "      <td>0.850173</td>\n",
       "      <td>0.230380</td>\n",
       "      <td>10.93906</td>\n",
       "      <td>0.041716</td>\n",
       "    </tr>\n",
       "    <tr>\n",
       "      <th>5</th>\n",
       "      <td></td>\n",
       "      <td>2018-12-10 09:26:03</td>\n",
       "      <td>0.874 sec</td>\n",
       "      <td>5.0</td>\n",
       "      <td>0.453345</td>\n",
       "      <td>0.700886</td>\n",
       "      <td>0.840917</td>\n",
       "      <td>0.766071</td>\n",
       "      <td>2.000063</td>\n",
       "      <td>0.190220</td>\n",
       "      <td>0.196759</td>\n",
       "      <td>0.161193</td>\n",
       "      <td>0.853542</td>\n",
       "      <td>0.232568</td>\n",
       "      <td>10.93906</td>\n",
       "      <td>0.041628</td>\n",
       "    </tr>\n",
       "    <tr>\n",
       "      <th>6</th>\n",
       "      <td></td>\n",
       "      <td>2018-12-10 09:26:03</td>\n",
       "      <td>1.095 sec</td>\n",
       "      <td>6.0</td>\n",
       "      <td>0.451231</td>\n",
       "      <td>0.691245</td>\n",
       "      <td>0.846293</td>\n",
       "      <td>0.763359</td>\n",
       "      <td>2.000063</td>\n",
       "      <td>0.182404</td>\n",
       "      <td>0.195954</td>\n",
       "      <td>0.159001</td>\n",
       "      <td>0.855109</td>\n",
       "      <td>0.234196</td>\n",
       "      <td>10.93906</td>\n",
       "      <td>0.041672</td>\n",
       "    </tr>\n",
       "    <tr>\n",
       "      <th>7</th>\n",
       "      <td></td>\n",
       "      <td>2018-12-10 09:26:03</td>\n",
       "      <td>1.285 sec</td>\n",
       "      <td>7.0</td>\n",
       "      <td>0.449889</td>\n",
       "      <td>0.685638</td>\n",
       "      <td>0.848186</td>\n",
       "      <td>0.829034</td>\n",
       "      <td>2.000063</td>\n",
       "      <td>0.179044</td>\n",
       "      <td>0.195452</td>\n",
       "      <td>0.157767</td>\n",
       "      <td>0.855756</td>\n",
       "      <td>0.234116</td>\n",
       "      <td>10.93906</td>\n",
       "      <td>0.041672</td>\n",
       "    </tr>\n",
       "    <tr>\n",
       "      <th>8</th>\n",
       "      <td></td>\n",
       "      <td>2018-12-10 09:26:04</td>\n",
       "      <td>1.696 sec</td>\n",
       "      <td>8.0</td>\n",
       "      <td>0.448596</td>\n",
       "      <td>0.680990</td>\n",
       "      <td>0.849015</td>\n",
       "      <td>0.860482</td>\n",
       "      <td>2.000063</td>\n",
       "      <td>0.177620</td>\n",
       "      <td>0.195039</td>\n",
       "      <td>0.156866</td>\n",
       "      <td>0.855881</td>\n",
       "      <td>0.233431</td>\n",
       "      <td>10.93906</td>\n",
       "      <td>0.041672</td>\n",
       "    </tr>\n",
       "    <tr>\n",
       "      <th>9</th>\n",
       "      <td></td>\n",
       "      <td>2018-12-10 09:26:04</td>\n",
       "      <td>1.854 sec</td>\n",
       "      <td>9.0</td>\n",
       "      <td>0.450196</td>\n",
       "      <td>0.685019</td>\n",
       "      <td>0.849774</td>\n",
       "      <td>0.859276</td>\n",
       "      <td>2.000063</td>\n",
       "      <td>0.177173</td>\n",
       "      <td>0.195386</td>\n",
       "      <td>0.157596</td>\n",
       "      <td>0.857815</td>\n",
       "      <td>0.235019</td>\n",
       "      <td>10.93906</td>\n",
       "      <td>0.041848</td>\n",
       "    </tr>\n",
       "    <tr>\n",
       "      <th>10</th>\n",
       "      <td></td>\n",
       "      <td>2018-12-10 09:26:04</td>\n",
       "      <td>2.026 sec</td>\n",
       "      <td>10.0</td>\n",
       "      <td>0.449142</td>\n",
       "      <td>0.681646</td>\n",
       "      <td>0.851028</td>\n",
       "      <td>0.875683</td>\n",
       "      <td>2.000063</td>\n",
       "      <td>0.176310</td>\n",
       "      <td>0.195030</td>\n",
       "      <td>0.156873</td>\n",
       "      <td>0.858775</td>\n",
       "      <td>0.371638</td>\n",
       "      <td>10.93906</td>\n",
       "      <td>0.041891</td>\n",
       "    </tr>\n",
       "    <tr>\n",
       "      <th>11</th>\n",
       "      <td></td>\n",
       "      <td>2018-12-10 09:26:04</td>\n",
       "      <td>2.169 sec</td>\n",
       "      <td>11.0</td>\n",
       "      <td>0.448248</td>\n",
       "      <td>0.678819</td>\n",
       "      <td>0.851178</td>\n",
       "      <td>0.875228</td>\n",
       "      <td>2.000063</td>\n",
       "      <td>0.175792</td>\n",
       "      <td>0.194727</td>\n",
       "      <td>0.156227</td>\n",
       "      <td>0.858923</td>\n",
       "      <td>0.371632</td>\n",
       "      <td>10.93906</td>\n",
       "      <td>0.041848</td>\n",
       "    </tr>\n",
       "    <tr>\n",
       "      <th>12</th>\n",
       "      <td></td>\n",
       "      <td>2018-12-10 09:26:04</td>\n",
       "      <td>2.454 sec</td>\n",
       "      <td>12.0</td>\n",
       "      <td>0.447386</td>\n",
       "      <td>0.676263</td>\n",
       "      <td>0.851845</td>\n",
       "      <td>0.882959</td>\n",
       "      <td>2.000063</td>\n",
       "      <td>0.175487</td>\n",
       "      <td>0.194469</td>\n",
       "      <td>0.155743</td>\n",
       "      <td>0.859128</td>\n",
       "      <td>0.372334</td>\n",
       "      <td>10.93906</td>\n",
       "      <td>0.042374</td>\n",
       "    </tr>\n",
       "    <tr>\n",
       "      <th>13</th>\n",
       "      <td></td>\n",
       "      <td>2018-12-10 09:26:05</td>\n",
       "      <td>2.732 sec</td>\n",
       "      <td>13.0</td>\n",
       "      <td>0.446679</td>\n",
       "      <td>0.675989</td>\n",
       "      <td>0.852635</td>\n",
       "      <td>0.884901</td>\n",
       "      <td>2.000063</td>\n",
       "      <td>0.175800</td>\n",
       "      <td>0.194263</td>\n",
       "      <td>0.155678</td>\n",
       "      <td>0.861420</td>\n",
       "      <td>0.702853</td>\n",
       "      <td>10.93906</td>\n",
       "      <td>0.042374</td>\n",
       "    </tr>\n",
       "    <tr>\n",
       "      <th>14</th>\n",
       "      <td></td>\n",
       "      <td>2018-12-10 09:26:05</td>\n",
       "      <td>3.026 sec</td>\n",
       "      <td>14.0</td>\n",
       "      <td>0.446160</td>\n",
       "      <td>0.674464</td>\n",
       "      <td>0.852473</td>\n",
       "      <td>0.883251</td>\n",
       "      <td>2.000063</td>\n",
       "      <td>0.175545</td>\n",
       "      <td>0.194127</td>\n",
       "      <td>0.155404</td>\n",
       "      <td>0.861234</td>\n",
       "      <td>0.702670</td>\n",
       "      <td>10.93906</td>\n",
       "      <td>0.042374</td>\n",
       "    </tr>\n",
       "    <tr>\n",
       "      <th>15</th>\n",
       "      <td></td>\n",
       "      <td>2018-12-10 09:26:05</td>\n",
       "      <td>3.347 sec</td>\n",
       "      <td>15.0</td>\n",
       "      <td>0.445595</td>\n",
       "      <td>0.672846</td>\n",
       "      <td>0.852857</td>\n",
       "      <td>0.886487</td>\n",
       "      <td>2.000063</td>\n",
       "      <td>0.176034</td>\n",
       "      <td>0.193981</td>\n",
       "      <td>0.155111</td>\n",
       "      <td>0.861672</td>\n",
       "      <td>0.703390</td>\n",
       "      <td>10.93906</td>\n",
       "      <td>0.041804</td>\n",
       "    </tr>\n",
       "    <tr>\n",
       "      <th>16</th>\n",
       "      <td></td>\n",
       "      <td>2018-12-10 09:26:06</td>\n",
       "      <td>3.651 sec</td>\n",
       "      <td>16.0</td>\n",
       "      <td>0.447072</td>\n",
       "      <td>0.676813</td>\n",
       "      <td>0.852687</td>\n",
       "      <td>0.887809</td>\n",
       "      <td>2.000063</td>\n",
       "      <td>0.176355</td>\n",
       "      <td>0.194324</td>\n",
       "      <td>0.155814</td>\n",
       "      <td>0.860892</td>\n",
       "      <td>0.709638</td>\n",
       "      <td>10.93906</td>\n",
       "      <td>0.042593</td>\n",
       "    </tr>\n",
       "    <tr>\n",
       "      <th>17</th>\n",
       "      <td></td>\n",
       "      <td>2018-12-10 09:26:06</td>\n",
       "      <td>4.088 sec</td>\n",
       "      <td>17.0</td>\n",
       "      <td>0.448335</td>\n",
       "      <td>0.679938</td>\n",
       "      <td>0.852615</td>\n",
       "      <td>0.883406</td>\n",
       "      <td>2.000063</td>\n",
       "      <td>0.175285</td>\n",
       "      <td>0.194646</td>\n",
       "      <td>0.156398</td>\n",
       "      <td>0.861243</td>\n",
       "      <td>0.709587</td>\n",
       "      <td>10.93906</td>\n",
       "      <td>0.041672</td>\n",
       "    </tr>\n",
       "    <tr>\n",
       "      <th>18</th>\n",
       "      <td></td>\n",
       "      <td>2018-12-10 09:26:06</td>\n",
       "      <td>4.452 sec</td>\n",
       "      <td>18.0</td>\n",
       "      <td>0.448381</td>\n",
       "      <td>0.679945</td>\n",
       "      <td>0.852336</td>\n",
       "      <td>0.887858</td>\n",
       "      <td>2.000063</td>\n",
       "      <td>0.176192</td>\n",
       "      <td>0.194664</td>\n",
       "      <td>0.156380</td>\n",
       "      <td>0.860553</td>\n",
       "      <td>0.707925</td>\n",
       "      <td>10.93906</td>\n",
       "      <td>0.042067</td>\n",
       "    </tr>\n",
       "    <tr>\n",
       "      <th>19</th>\n",
       "      <td></td>\n",
       "      <td>2018-12-10 09:26:07</td>\n",
       "      <td>4.787 sec</td>\n",
       "      <td>19.0</td>\n",
       "      <td>0.447868</td>\n",
       "      <td>0.678416</td>\n",
       "      <td>0.852719</td>\n",
       "      <td>0.888246</td>\n",
       "      <td>2.000063</td>\n",
       "      <td>0.176166</td>\n",
       "      <td>0.194532</td>\n",
       "      <td>0.156116</td>\n",
       "      <td>0.860543</td>\n",
       "      <td>0.713550</td>\n",
       "      <td>10.93906</td>\n",
       "      <td>0.041672</td>\n",
       "    </tr>\n",
       "    <tr>\n",
       "      <th>20</th>\n",
       "      <td></td>\n",
       "      <td>2018-12-10 09:26:07</td>\n",
       "      <td>5.091 sec</td>\n",
       "      <td>20.0</td>\n",
       "      <td>0.447362</td>\n",
       "      <td>0.678032</td>\n",
       "      <td>0.852683</td>\n",
       "      <td>0.890928</td>\n",
       "      <td>2.000063</td>\n",
       "      <td>0.176088</td>\n",
       "      <td>0.194399</td>\n",
       "      <td>0.156040</td>\n",
       "      <td>0.860467</td>\n",
       "      <td>0.726026</td>\n",
       "      <td>10.93906</td>\n",
       "      <td>0.041672</td>\n",
       "    </tr>\n",
       "  </tbody>\n",
       "</table>\n",
       "</div>"
      ],
      "text/plain": [
       "                timestamp    duration  number_of_trees  training_rmse  \\\n",
       "0     2018-12-10 09:26:02   0.063 sec              0.0            NaN   \n",
       "1     2018-12-10 09:26:02   0.331 sec              1.0       0.459971   \n",
       "2     2018-12-10 09:26:02   0.448 sec              2.0       0.460106   \n",
       "3     2018-12-10 09:26:03   0.573 sec              3.0       0.454194   \n",
       "4     2018-12-10 09:26:03   0.680 sec              4.0       0.453620   \n",
       "5     2018-12-10 09:26:03   0.874 sec              5.0       0.453345   \n",
       "6     2018-12-10 09:26:03   1.095 sec              6.0       0.451231   \n",
       "7     2018-12-10 09:26:03   1.285 sec              7.0       0.449889   \n",
       "8     2018-12-10 09:26:04   1.696 sec              8.0       0.448596   \n",
       "9     2018-12-10 09:26:04   1.854 sec              9.0       0.450196   \n",
       "10    2018-12-10 09:26:04   2.026 sec             10.0       0.449142   \n",
       "11    2018-12-10 09:26:04   2.169 sec             11.0       0.448248   \n",
       "12    2018-12-10 09:26:04   2.454 sec             12.0       0.447386   \n",
       "13    2018-12-10 09:26:05   2.732 sec             13.0       0.446679   \n",
       "14    2018-12-10 09:26:05   3.026 sec             14.0       0.446160   \n",
       "15    2018-12-10 09:26:05   3.347 sec             15.0       0.445595   \n",
       "16    2018-12-10 09:26:06   3.651 sec             16.0       0.447072   \n",
       "17    2018-12-10 09:26:06   4.088 sec             17.0       0.448335   \n",
       "18    2018-12-10 09:26:06   4.452 sec             18.0       0.448381   \n",
       "19    2018-12-10 09:26:07   4.787 sec             19.0       0.447868   \n",
       "20    2018-12-10 09:26:07   5.091 sec             20.0       0.447362   \n",
       "\n",
       "    training_logloss  training_auc  training_pr_auc  training_lift  \\\n",
       "0                NaN           NaN              NaN            NaN   \n",
       "1           0.735167      0.775024         0.315572       2.000063   \n",
       "2           0.735705      0.776137         0.663650       2.000063   \n",
       "3           0.706696      0.833144         0.651257       2.000063   \n",
       "4           0.703235      0.837962         0.777515       2.000063   \n",
       "5           0.700886      0.840917         0.766071       2.000063   \n",
       "6           0.691245      0.846293         0.763359       2.000063   \n",
       "7           0.685638      0.848186         0.829034       2.000063   \n",
       "8           0.680990      0.849015         0.860482       2.000063   \n",
       "9           0.685019      0.849774         0.859276       2.000063   \n",
       "10          0.681646      0.851028         0.875683       2.000063   \n",
       "11          0.678819      0.851178         0.875228       2.000063   \n",
       "12          0.676263      0.851845         0.882959       2.000063   \n",
       "13          0.675989      0.852635         0.884901       2.000063   \n",
       "14          0.674464      0.852473         0.883251       2.000063   \n",
       "15          0.672846      0.852857         0.886487       2.000063   \n",
       "16          0.676813      0.852687         0.887809       2.000063   \n",
       "17          0.679938      0.852615         0.883406       2.000063   \n",
       "18          0.679945      0.852336         0.887858       2.000063   \n",
       "19          0.678416      0.852719         0.888246       2.000063   \n",
       "20          0.678032      0.852683         0.890928       2.000063   \n",
       "\n",
       "    training_classification_error  validation_rmse  validation_logloss  \\\n",
       "0                             NaN              NaN                 NaN   \n",
       "1                        0.231311         0.199842            0.171414   \n",
       "2                        0.231580         0.199657            0.171288   \n",
       "3                        0.199132         0.197210            0.162268   \n",
       "4                        0.193374         0.196792            0.161252   \n",
       "5                        0.190220         0.196759            0.161193   \n",
       "6                        0.182404         0.195954            0.159001   \n",
       "7                        0.179044         0.195452            0.157767   \n",
       "8                        0.177620         0.195039            0.156866   \n",
       "9                        0.177173         0.195386            0.157596   \n",
       "10                       0.176310         0.195030            0.156873   \n",
       "11                       0.175792         0.194727            0.156227   \n",
       "12                       0.175487         0.194469            0.155743   \n",
       "13                       0.175800         0.194263            0.155678   \n",
       "14                       0.175545         0.194127            0.155404   \n",
       "15                       0.176034         0.193981            0.155111   \n",
       "16                       0.176355         0.194324            0.155814   \n",
       "17                       0.175285         0.194646            0.156398   \n",
       "18                       0.176192         0.194664            0.156380   \n",
       "19                       0.176166         0.194532            0.156116   \n",
       "20                       0.176088         0.194399            0.156040   \n",
       "\n",
       "    validation_auc  validation_pr_auc  validation_lift  \\\n",
       "0              NaN                NaN              NaN   \n",
       "1         0.774285           0.142666         10.93906   \n",
       "2         0.775601           0.189036         10.93906   \n",
       "3         0.851951           0.231886         10.93906   \n",
       "4         0.850173           0.230380         10.93906   \n",
       "5         0.853542           0.232568         10.93906   \n",
       "6         0.855109           0.234196         10.93906   \n",
       "7         0.855756           0.234116         10.93906   \n",
       "8         0.855881           0.233431         10.93906   \n",
       "9         0.857815           0.235019         10.93906   \n",
       "10        0.858775           0.371638         10.93906   \n",
       "11        0.858923           0.371632         10.93906   \n",
       "12        0.859128           0.372334         10.93906   \n",
       "13        0.861420           0.702853         10.93906   \n",
       "14        0.861234           0.702670         10.93906   \n",
       "15        0.861672           0.703390         10.93906   \n",
       "16        0.860892           0.709638         10.93906   \n",
       "17        0.861243           0.709587         10.93906   \n",
       "18        0.860553           0.707925         10.93906   \n",
       "19        0.860543           0.713550         10.93906   \n",
       "20        0.860467           0.726026         10.93906   \n",
       "\n",
       "    validation_classification_error  \n",
       "0                               NaN  \n",
       "1                          0.041672  \n",
       "2                          0.041672  \n",
       "3                          0.041716  \n",
       "4                          0.041716  \n",
       "5                          0.041628  \n",
       "6                          0.041672  \n",
       "7                          0.041672  \n",
       "8                          0.041672  \n",
       "9                          0.041848  \n",
       "10                         0.041891  \n",
       "11                         0.041848  \n",
       "12                         0.042374  \n",
       "13                         0.042374  \n",
       "14                         0.042374  \n",
       "15                         0.041804  \n",
       "16                         0.042593  \n",
       "17                         0.041672  \n",
       "18                         0.042067  \n",
       "19                         0.041672  \n",
       "20                         0.041672  "
      ]
     },
     "execution_count": 403,
     "metadata": {},
     "output_type": "execute_result"
    }
   ],
   "source": [
    "# Build Random Forest Model\n",
    "# Best hyperparameter combination\n",
    "#'ntrees': 200, 'max_depth': 4, 'sample_rate': 0.5, 'col_sample_rate_per_tree': 1.0\n",
    "model = H2ORandomForestEstimator(balance_classes=True, \n",
    "                                 ntrees=200, \n",
    "                                 max_depth=4, \n",
    "                                 sample_rate=0.5,\n",
    "                                 col_sample_rate_per_tree=1.0,\n",
    "                                 mtries=-1, \n",
    "                                 stopping_rounds=5, \n",
    "                                 stopping_metric='auc', \n",
    "                                 score_each_iteration=True, \n",
    "                                 seed=42)\n",
    "\n",
    "model.train(x=feature, y=target, training_frame=train, validation_frame=test)\n",
    "model.score_history()"
   ]
  },
  {
   "cell_type": "markdown",
   "metadata": {},
   "source": [
    "## Implications of False Positives vs False Negatives\n",
    "<a id=\"fp\"></a> "
   ]
  },
  {
   "cell_type": "code",
   "execution_count": 405,
   "metadata": {
    "ExecuteTime": {
     "end_time": "2018-12-10T17:29:01.067704Z",
     "start_time": "2018-12-10T17:28:57.359640Z"
    }
   },
   "outputs": [
    {
     "name": "stdout",
     "output_type": "stream",
     "text": [
      "drf prediction progress: |████████████████████████████████████████████████| 100%\n",
      "drf prediction progress: |████████████████████████████████████████████████| 100%\n"
     ]
    }
   ],
   "source": [
    "from sklearn.metrics import auc, roc_curve, classification_report\n",
    "# Make predictions \n",
    "train_true = train.as_data_frame()['class'].values\n",
    "test_true = test.as_data_frame()['class'].values\n",
    "train_pred = model.predict(train).as_data_frame()['p1'].values\n",
    "test_pred = model.predict(test).as_data_frame()['p1'].values\n",
    "\n",
    "train_fpr, train_tpr, _ = roc_curve(train_true, train_pred)\n",
    "test_fpr, test_tpr, _ = roc_curve(test_true, test_pred)\n",
    "train_auc = np.round(auc(train_fpr, train_tpr), 3)\n",
    "test_auc = np.round(auc(test_fpr, test_tpr), 3)"
   ]
  },
  {
   "cell_type": "code",
   "execution_count": 407,
   "metadata": {
    "ExecuteTime": {
     "end_time": "2018-12-10T17:29:09.654246Z",
     "start_time": "2018-12-10T17:29:09.627322Z"
    }
   },
   "outputs": [
    {
     "name": "stdout",
     "output_type": "stream",
     "text": [
      "             precision    recall  f1-score   support\n",
      "\n",
      "          0       0.96      1.00      0.98     20713\n",
      "          1       1.00      0.54      0.70      2084\n",
      "\n",
      "avg / total       0.96      0.96      0.95     22797\n",
      "\n"
     ]
    }
   ],
   "source": [
    "# Classification report\n",
    "print(classification_report(y_true=test_true, y_pred=(test_pred > 0.5).astype(int)))"
   ]
  },
  {
   "cell_type": "code",
   "execution_count": 408,
   "metadata": {
    "ExecuteTime": {
     "end_time": "2018-12-10T17:29:11.386936Z",
     "start_time": "2018-12-10T17:29:11.057441Z"
    }
   },
   "outputs": [
    {
     "data": {
      "image/png": "[encoded data removed]",
      "text/plain": [
       "<Figure size 576x432 with 1 Axes>"
      ]
     },
     "metadata": {
      "needs_background": "light"
     },
     "output_type": "display_data"
    }
   ],
   "source": [
    "train_fpr = np.insert(train_fpr, 0, 0)\n",
    "train_tpr = np.insert(train_tpr, 0, 0)\n",
    "test_fpr = np.insert(test_fpr, 0, 0)\n",
    "test_tpr = np.insert(test_tpr, 0, 0)\n",
    "\n",
    "fig, ax = plt.subplots(figsize=(8, 6))\n",
    "ax.plot(train_fpr, train_tpr, label='Train AUC: ' + str(train_auc))\n",
    "ax.plot(test_fpr, test_tpr, label='Test AUC: ' + str(test_auc))\n",
    "ax.plot(train_fpr, train_fpr, 'k--', label='Chance Curve')\n",
    "ax.set_xlabel('False Positive Rate', fontsize=12)\n",
    "ax.set_ylabel('True Positive Rate', fontsize=12)\n",
    "ax.grid(True)\n",
    "ax.legend(fontsize=12)\n",
    "plt.show()"
   ]
  },
  {
   "cell_type": "markdown",
   "metadata": {},
   "source": [
    "Cost of False Positive: Some non-fraudulent users are mistakenly classified as fraudulent users and the transaction of purchase get blocked. It will deteriorate the user experience, and further reduce the revenue.\n",
    "\n",
    "Cost of False Negtive: Fraudulent users didn't captured and blocked by the website. In that, the website ship out the merchandise but didn't get the payment back, so the company lose big chunk of money directly.\n",
    "\n",
    "From the ROC curve, by decreasing the cut-off p, the true positive rate increase from ~0.5 to 1.0, and at the same time, the false positive rate increase from 0 to 1.0, and the false negtive rate decrease from ~ 0.5 to 0. When the cut-off p of the model is too high, a lot of fradulent users are not detected and company directly lose money from the fraud activities. When the cut-off p of the model is too low, a lot of good users are misclassified as fraud users and the whole website is not doing business any more.\n",
    "\n",
    "A good strategy is to test the cut-off p against the website revenue, and set the cut-off to balance both False Positive and False Negtive."
   ]
  },
  {
   "cell_type": "markdown",
   "metadata": {},
   "source": [
    "## Images of High Fraudulent Risk Users\n",
    "<a id=\"im\"></a> "
   ]
  },
  {
   "cell_type": "markdown",
   "metadata": {},
   "source": [
    "Based on the following Variable Importance Ranking and the Partial Dependence Plot, variables \"purchase week\", \"number of users share the same device\", \"the time difference between sign up and purchase\" and \"number of users share the same ip address\" are the top four features to capture the high fraudulent risk users in the model.\n",
    "\n",
    "We can tell that the users with the following characteristics are high fraudulent risk customers:\n",
    "1. make within the first three weeks of a year\n",
    "2. muptiple user id share the same device\n",
    "3. make purchase within 20 min of website sign up, the faster of purchase right after the sign-up process, the higher risk of the fraudulent users\n",
    "4. muptiple user id share the same ip address"
   ]
  },
  {
   "cell_type": "code",
   "execution_count": 404,
   "metadata": {
    "ExecuteTime": {
     "end_time": "2018-12-10T17:26:15.655843Z",
     "start_time": "2018-12-10T17:26:15.274496Z"
    }
   },
   "outputs": [
    {
     "data": {
      "image/png": "[encoded data removed]",
      "text/plain": [
       "<Figure size 720x576 with 1 Axes>"
      ]
     },
     "metadata": {
      "needs_background": "light"
     },
     "output_type": "display_data"
    }
   ],
   "source": [
    "# Feature importance\n",
    "importance = model.varimp(use_pandas=True)\n",
    "\n",
    "fig, ax = plt.subplots(figsize=(10, 8))\n",
    "sns.barplot(x='scaled_importance', y='variable', data=importance)\n",
    "plt.show()"
   ]
  },
  {
   "cell_type": "code",
   "execution_count": 409,
   "metadata": {
    "ExecuteTime": {
     "end_time": "2018-12-10T17:34:16.374238Z",
     "start_time": "2018-12-10T17:31:22.389156Z"
    },
    "scrolled": false
   },
   "outputs": [
    {
     "name": "stdout",
     "output_type": "stream",
     "text": [
      "PartialDependencePlot progress: |█████████████████████████████████████████| 100%\n"
     ]
    },
    {
     "data": {
      "image/png": "[encoded data removed]",
      "text/plain": [
       "<Figure size 1296x1440 with 5 Axes>"
      ]
     },
     "metadata": {
      "needs_background": "light"
     },
     "output_type": "display_data"
    }
   ],
   "source": [
    "cols = ['purchase_week', 'time_diff', 'no_device_common', 'no_ip_common', 'country']\n",
    "_ = model.partial_plot(data=train, cols=cols, nbins=200, figsize=(18, 20))"
   ]
  },
  {
   "cell_type": "markdown",
   "metadata": {},
   "source": [
    "https://www.kaggle.com/dansbecker/partial-dependence-plots"
   ]
  },
  {
   "cell_type": "markdown",
   "metadata": {},
   "source": [
    "Based on the analysis below, among all the countries, countries Turkmenistan, Namibia, Sri Lanka, Luxembourg, Virgin Islands (U.S.), Ecuador, Tunisia, Peru, Bolivia, Kuwait are the top 10 high risk countries."
   ]
  },
  {
   "cell_type": "code",
   "execution_count": 419,
   "metadata": {
    "ExecuteTime": {
     "end_time": "2018-12-12T05:56:10.018144Z",
     "start_time": "2018-12-12T05:56:09.583481Z"
    }
   },
   "outputs": [
    {
     "name": "stdout",
     "output_type": "stream",
     "text": [
      "H2O session _sid_b926 closed.\n"
     ]
    }
   ],
   "source": [
    "# Shutdown h2o instance\n",
    "h2o.cluster().shutdown()"
   ]
  },
  {
   "cell_type": "code",
   "execution_count": 418,
   "metadata": {
    "ExecuteTime": {
     "end_time": "2018-12-12T01:48:26.587988Z",
     "start_time": "2018-12-12T01:48:18.697741Z"
    }
   },
   "outputs": [
    {
     "data": {
      "text/plain": [
       "92              Turkmenistan\n",
       "81                   Namibia\n",
       "119                Sri Lanka\n",
       "114               Luxembourg\n",
       "127    Virgin Islands (U.S.)\n",
       "50                   Ecuador\n",
       "74                   Tunisia\n",
       "14                      Peru\n",
       "62                   Bolivia\n",
       "96                    Kuwait\n",
       "Name: Value, dtype: object"
      ]
     },
     "execution_count": 418,
     "metadata": {},
     "output_type": "execute_result"
    }
   ],
   "source": [
    "df = fraud_df\n",
    "variable = 'country'\n",
    "target= 'class' \n",
    "ncat=1000\n",
    "\n",
    "# cut bkt by percentile, ncat is the number of levels for a variable to be considered as continuous variable\n",
    "\n",
    "if df[variable].nunique()>= ncat:            \n",
    "    cut = pd.cut(df[variable], np.percentile(df[variable], [0, 20, 40, 60, 80, 100]), include_lowest = True)\n",
    "    new_name = variable+'_bkt'\n",
    "    cut.name = new_name\n",
    "    bkt = pd.concat([df,cut],axis=1)\n",
    "else:\n",
    "    new_name = variable+'_bkt'\n",
    "    bkt = df.rename(columns={variable:new_name})\n",
    "# calculate the Odds Ratio\n",
    "lst = []\n",
    "for i in range(bkt[new_name].nunique()):\n",
    "    val = list(bkt[new_name].unique())[i]\n",
    "    lst.append([variable, val, bkt[bkt[new_name] == val].count()[new_name], bkt[(bkt[new_name] == val) & (bkt[target] == 1)].count()[new_name]])\n",
    "\n",
    "data = pd.DataFrame(lst, columns = ['Variable', 'Value', 'All', 'Bad'])\n",
    "data = data[data['Bad'] > 0]\n",
    "data['odds_ratio'] = np.log(data['Bad']/(data['All'] - data['Bad']))\n",
    "    \n",
    "data['Value'] = data['Value'].apply(lambda x: str(x))\n",
    "data = data.sort_values(by= 'odds_ratio', ascending = False)\n",
    "    \n",
    "data.head(10).Value"
   ]
  },
  {
   "cell_type": "markdown",
   "metadata": {},
   "source": [
    "# Model Usage and Recommendation\n",
    "<a id=\"re\"></a> \n",
    "From a product perspective, how would you use the model to tell if an activity is fraudulent or not? That is, what kind of different user experiences would you build based on the model output?"
   ]
  },
  {
   "cell_type": "markdown",
   "metadata": {},
   "source": [
    "The model is able to predict probability of fradulent users, and the company can set cut-offs to customize different user experience based on the predict probability of fradulence. e.g.\n",
    "* p <0.6: non-fraudulent users, normal transaction experience\n",
    "* 0.6<=p<0.8: fraudulent risky users. The website needs to ask for further identification verification and payment verification information\n",
    "* p >= 0.8: high fraudulent risk users. The website needs to block transaction activities from those users."
   ]
  },
  {
   "cell_type": "code",
   "execution_count": null,
   "metadata": {},
   "outputs": [],
   "source": []
  }
 ],
 "metadata": {
  "kernelspec": {
   "display_name": "Python 2",
   "language": "python",
   "name": "python2"
  },
  "language_info": {
   "codemirror_mode": {
    "name": "ipython",
    "version": 2
   },
   "file_extension": ".py",
   "mimetype": "text/x-python",
   "name": "python",
   "nbconvert_exporter": "python",
   "pygments_lexer": "ipython2",
   "version": "2.7.15"
  },
  "toc": {
   "base_numbering": 1,
   "nav_menu": {},
   "number_sections": true,
   "sideBar": true,
   "skip_h1_title": false,
   "title_cell": "Table of Contents",
   "title_sidebar": "Contents",
   "toc_cell": false,
   "toc_position": {},
   "toc_section_display": true,
   "toc_window_display": true
  }
 },
 "nbformat": 4,
 "nbformat_minor": 2
}
