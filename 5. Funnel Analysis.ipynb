{
 "cells": [
  {
   "cell_type": "markdown",
   "metadata": {},
   "source": [
    "# Table of Contents\n",
    "* [Set up environment](#env)\n",
    "* [Read in Data](#load)\n",
    "    * [Map IP Address to Country](#ip)\n",
    "    * [Feature Engineering](#fea)\n",
    "    * [Variable Sanity Check](#san)\n",
    "* [Fraudulent Activity Prediction](#pres)\n",
    "    * [Grid Search Hyper-parameters](#hyper)\n",
    "    * [Optimal Random Forest Model](#opt) \n",
    "    * [Implications of False Positives vs False Negatives](#fp)\n",
    "    * [Images of High Fraudulent Risk Users](#im)   \n",
    "* [Model Usage and Recommendation](#re)"
   ]
  },
  {
   "cell_type": "markdown",
   "metadata": {},
   "source": [
    "* E-commerce website pages:\n",
    "home page -> (search) -> search page -> (click on a product) -> payment page -> (fill in payment information) -> confirmation page (confirm to buy)\n",
    "\n",
    "The tables record the user first experience on the site.\n",
    "\n",
    "* Goal of the challenge:\n",
    "Check abnormal behavior in the data;\n",
    "\n",
    "A full picture of funnel conversion rate for both desktop and mobile;\n",
    "\n",
    "What the product team should focus on in order to improve conversion rate as well as anything you might discover that could help improve conversion rate."
   ]
  },
  {
   "cell_type": "markdown",
   "metadata": {},
   "source": [
    "# Set up Environment\n",
    "<a id=\"env\"></a> "
   ]
  },
  {
   "cell_type": "code",
   "execution_count": 1,
   "metadata": {
    "ExecuteTime": {
     "end_time": "2018-12-14T00:26:03.618798Z",
     "start_time": "2018-12-14T00:26:01.466252Z"
    }
   },
   "outputs": [],
   "source": [
    "# import library\n",
    "import numpy as np\n",
    "import pandas as pd\n",
    "import matplotlib.pyplot as plt\n",
    "import seaborn as sns\n",
    "import os \n",
    "import warnings\n",
    "warnings.simplefilter('default')\n",
    "from scipy import stats"
   ]
  },
  {
   "cell_type": "markdown",
   "metadata": {},
   "source": [
    "# Read in Data\n",
    "<a id=\"load\"></a> "
   ]
  },
  {
   "cell_type": "code",
   "execution_count": 2,
   "metadata": {
    "ExecuteTime": {
     "end_time": "2018-12-14T00:26:03.732693Z",
     "start_time": "2018-12-14T00:26:03.624689Z"
    }
   },
   "outputs": [],
   "source": [
    "user_df = pd.read_csv(\"./Funnel/user_table.csv\", sep = ',')"
   ]
  },
  {
   "cell_type": "code",
   "execution_count": 3,
   "metadata": {
    "ExecuteTime": {
     "end_time": "2018-12-14T00:26:03.783667Z",
     "start_time": "2018-12-14T00:26:03.738186Z"
    }
   },
   "outputs": [],
   "source": [
    "home_df = pd.read_csv(\"./Funnel/home_page_table.csv\", sep = ',')"
   ]
  },
  {
   "cell_type": "code",
   "execution_count": 4,
   "metadata": {
    "ExecuteTime": {
     "end_time": "2018-12-14T00:26:03.823697Z",
     "start_time": "2018-12-14T00:26:03.789500Z"
    }
   },
   "outputs": [],
   "source": [
    "search_df = pd.read_csv(\"./Funnel/search_page_table.csv\", sep = ',')"
   ]
  },
  {
   "cell_type": "code",
   "execution_count": 5,
   "metadata": {
    "ExecuteTime": {
     "end_time": "2018-12-14T00:26:03.844651Z",
     "start_time": "2018-12-14T00:26:03.829063Z"
    }
   },
   "outputs": [],
   "source": [
    "pay_df = pd.read_csv(\"./Funnel/payment_page_table.csv\", sep = ',')"
   ]
  },
  {
   "cell_type": "code",
   "execution_count": 6,
   "metadata": {
    "ExecuteTime": {
     "end_time": "2018-12-14T00:26:03.860657Z",
     "start_time": "2018-12-14T00:26:03.849816Z"
    }
   },
   "outputs": [],
   "source": [
    "confirm_df= pd.read_csv(\"./Funnel/payment_confirmation_table.csv\", sep = ',')"
   ]
  },
  {
   "cell_type": "markdown",
   "metadata": {},
   "source": [
    "## Sanity Check\n",
    "<a id=\"san\"></a> "
   ]
  },
  {
   "cell_type": "markdown",
   "metadata": {},
   "source": [
    "There is no duplicates and null values in all five data tables."
   ]
  },
  {
   "cell_type": "code",
   "execution_count": 7,
   "metadata": {
    "ExecuteTime": {
     "end_time": "2018-12-14T00:26:03.915961Z",
     "start_time": "2018-12-14T00:26:03.866528Z"
    }
   },
   "outputs": [
    {
     "data": {
      "text/plain": [
       "0"
      ]
     },
     "execution_count": 7,
     "metadata": {},
     "output_type": "execute_result"
    }
   ],
   "source": [
    "user_df.duplicated(subset=None, keep='first').sum()"
   ]
  },
  {
   "cell_type": "code",
   "execution_count": 8,
   "metadata": {
    "ExecuteTime": {
     "end_time": "2018-12-14T00:26:03.939787Z",
     "start_time": "2018-12-14T00:26:03.921653Z"
    }
   },
   "outputs": [
    {
     "data": {
      "text/plain": [
       "0"
      ]
     },
     "execution_count": 8,
     "metadata": {},
     "output_type": "execute_result"
    }
   ],
   "source": [
    "user_df.user_id.duplicated().sum()"
   ]
  },
  {
   "cell_type": "code",
   "execution_count": 9,
   "metadata": {
    "ExecuteTime": {
     "end_time": "2018-12-14T00:26:03.997402Z",
     "start_time": "2018-12-14T00:26:03.946905Z"
    }
   },
   "outputs": [
    {
     "data": {
      "text/plain": [
       "user_id    0\n",
       "date       0\n",
       "device     0\n",
       "sex        0\n",
       "dtype: int64"
      ]
     },
     "execution_count": 9,
     "metadata": {},
     "output_type": "execute_result"
    }
   ],
   "source": [
    "user_df.isnull().sum()"
   ]
  },
  {
   "cell_type": "code",
   "execution_count": 10,
   "metadata": {
    "ExecuteTime": {
     "end_time": "2018-12-14T00:26:04.036335Z",
     "start_time": "2018-12-14T00:26:04.004602Z"
    }
   },
   "outputs": [
    {
     "data": {
      "text/plain": [
       "0"
      ]
     },
     "execution_count": 10,
     "metadata": {},
     "output_type": "execute_result"
    }
   ],
   "source": [
    "home_df.duplicated(subset = None, keep = 'first').sum()"
   ]
  },
  {
   "cell_type": "code",
   "execution_count": 11,
   "metadata": {
    "ExecuteTime": {
     "end_time": "2018-12-14T00:26:04.058636Z",
     "start_time": "2018-12-14T00:26:04.042025Z"
    }
   },
   "outputs": [
    {
     "data": {
      "text/plain": [
       "0"
      ]
     },
     "execution_count": 11,
     "metadata": {},
     "output_type": "execute_result"
    }
   ],
   "source": [
    "home_df.user_id.duplicated().sum()"
   ]
  },
  {
   "cell_type": "code",
   "execution_count": 12,
   "metadata": {
    "ExecuteTime": {
     "end_time": "2018-12-14T00:26:04.094397Z",
     "start_time": "2018-12-14T00:26:04.064921Z"
    }
   },
   "outputs": [
    {
     "data": {
      "text/plain": [
       "user_id    0\n",
       "page       0\n",
       "dtype: int64"
      ]
     },
     "execution_count": 12,
     "metadata": {},
     "output_type": "execute_result"
    }
   ],
   "source": [
    "home_df.isnull().sum()"
   ]
  },
  {
   "cell_type": "code",
   "execution_count": 13,
   "metadata": {
    "ExecuteTime": {
     "end_time": "2018-12-14T00:26:04.123871Z",
     "start_time": "2018-12-14T00:26:04.101153Z"
    }
   },
   "outputs": [
    {
     "data": {
      "text/plain": [
       "0"
      ]
     },
     "execution_count": 13,
     "metadata": {},
     "output_type": "execute_result"
    }
   ],
   "source": [
    "search_df.duplicated(subset = None, keep = 'first').sum()"
   ]
  },
  {
   "cell_type": "code",
   "execution_count": 14,
   "metadata": {
    "ExecuteTime": {
     "end_time": "2018-12-14T00:26:04.146753Z",
     "start_time": "2018-12-14T00:26:04.130786Z"
    }
   },
   "outputs": [
    {
     "data": {
      "text/plain": [
       "0"
      ]
     },
     "execution_count": 14,
     "metadata": {},
     "output_type": "execute_result"
    }
   ],
   "source": [
    "search_df.user_id.duplicated().sum()"
   ]
  },
  {
   "cell_type": "code",
   "execution_count": 15,
   "metadata": {
    "ExecuteTime": {
     "end_time": "2018-12-14T00:26:04.176167Z",
     "start_time": "2018-12-14T00:26:04.153843Z"
    }
   },
   "outputs": [
    {
     "data": {
      "text/plain": [
       "user_id    0\n",
       "page       0\n",
       "dtype: int64"
      ]
     },
     "execution_count": 15,
     "metadata": {},
     "output_type": "execute_result"
    }
   ],
   "source": [
    "search_df.isnull().sum()"
   ]
  },
  {
   "cell_type": "code",
   "execution_count": 16,
   "metadata": {
    "ExecuteTime": {
     "end_time": "2018-12-14T00:26:04.198842Z",
     "start_time": "2018-12-14T00:26:04.182391Z"
    }
   },
   "outputs": [
    {
     "data": {
      "text/plain": [
       "0"
      ]
     },
     "execution_count": 16,
     "metadata": {},
     "output_type": "execute_result"
    }
   ],
   "source": [
    "pay_df.duplicated(subset = None, keep = 'first').sum()"
   ]
  },
  {
   "cell_type": "code",
   "execution_count": 17,
   "metadata": {
    "ExecuteTime": {
     "end_time": "2018-12-14T00:26:04.223656Z",
     "start_time": "2018-12-14T00:26:04.206389Z"
    }
   },
   "outputs": [
    {
     "data": {
      "text/plain": [
       "0"
      ]
     },
     "execution_count": 17,
     "metadata": {},
     "output_type": "execute_result"
    }
   ],
   "source": [
    "pay_df.user_id.duplicated().sum()"
   ]
  },
  {
   "cell_type": "code",
   "execution_count": 18,
   "metadata": {
    "ExecuteTime": {
     "end_time": "2018-12-14T00:26:04.246959Z",
     "start_time": "2018-12-14T00:26:04.229398Z"
    }
   },
   "outputs": [
    {
     "data": {
      "text/plain": [
       "user_id    0\n",
       "page       0\n",
       "dtype: int64"
      ]
     },
     "execution_count": 18,
     "metadata": {},
     "output_type": "execute_result"
    }
   ],
   "source": [
    "pay_df.isnull().sum()"
   ]
  },
  {
   "cell_type": "code",
   "execution_count": 19,
   "metadata": {
    "ExecuteTime": {
     "end_time": "2018-12-14T00:26:04.270858Z",
     "start_time": "2018-12-14T00:26:04.255921Z"
    }
   },
   "outputs": [
    {
     "data": {
      "text/plain": [
       "0"
      ]
     },
     "execution_count": 19,
     "metadata": {},
     "output_type": "execute_result"
    }
   ],
   "source": [
    "confirm_df.duplicated(subset = None, keep = 'first').sum()"
   ]
  },
  {
   "cell_type": "code",
   "execution_count": 20,
   "metadata": {
    "ExecuteTime": {
     "end_time": "2018-12-14T00:26:04.302080Z",
     "start_time": "2018-12-14T00:26:04.278402Z"
    }
   },
   "outputs": [
    {
     "data": {
      "text/plain": [
       "0"
      ]
     },
     "execution_count": 20,
     "metadata": {},
     "output_type": "execute_result"
    }
   ],
   "source": [
    "confirm_df.user_id.duplicated().sum()"
   ]
  },
  {
   "cell_type": "code",
   "execution_count": 21,
   "metadata": {
    "ExecuteTime": {
     "end_time": "2018-12-14T00:26:04.331052Z",
     "start_time": "2018-12-14T00:26:04.309008Z"
    }
   },
   "outputs": [
    {
     "data": {
      "text/plain": [
       "user_id    0\n",
       "page       0\n",
       "dtype: int64"
      ]
     },
     "execution_count": 21,
     "metadata": {},
     "output_type": "execute_result"
    }
   ],
   "source": [
    "confirm_df.isnull().sum()"
   ]
  },
  {
   "cell_type": "markdown",
   "metadata": {},
   "source": [
    "## Univariate Analysis\n",
    "<a id=\"uni\"></a> "
   ]
  },
  {
   "cell_type": "code",
   "execution_count": 22,
   "metadata": {
    "ExecuteTime": {
     "end_time": "2018-12-14T00:26:04.384984Z",
     "start_time": "2018-12-14T00:26:04.337178Z"
    }
   },
   "outputs": [
    {
     "name": "stdout",
     "output_type": "stream",
     "text": [
      "<class 'pandas.core.frame.DataFrame'>\n",
      "RangeIndex: 90400 entries, 0 to 90399\n",
      "Data columns (total 4 columns):\n",
      "user_id    90400 non-null int64\n",
      "date       90400 non-null object\n",
      "device     90400 non-null object\n",
      "sex        90400 non-null object\n",
      "dtypes: int64(1), object(3)\n",
      "memory usage: 2.8+ MB\n"
     ]
    }
   ],
   "source": [
    "user_df.info()"
   ]
  },
  {
   "cell_type": "code",
   "execution_count": 23,
   "metadata": {
    "ExecuteTime": {
     "end_time": "2018-12-14T00:26:04.424655Z",
     "start_time": "2018-12-14T00:26:04.390637Z"
    }
   },
   "outputs": [],
   "source": [
    "user_df['date'] = pd.to_datetime(user_df.date)"
   ]
  },
  {
   "cell_type": "code",
   "execution_count": 24,
   "metadata": {
    "ExecuteTime": {
     "end_time": "2018-12-14T00:26:04.463550Z",
     "start_time": "2018-12-14T00:26:04.431156Z"
    }
   },
   "outputs": [
    {
     "data": {
      "text/plain": [
       "Desktop    60200\n",
       "Mobile     30200\n",
       "Name: device, dtype: int64"
      ]
     },
     "execution_count": 24,
     "metadata": {},
     "output_type": "execute_result"
    }
   ],
   "source": [
    "user_df.device.value_counts()"
   ]
  },
  {
   "cell_type": "code",
   "execution_count": 25,
   "metadata": {
    "ExecuteTime": {
     "end_time": "2018-12-14T00:26:04.504168Z",
     "start_time": "2018-12-14T00:26:04.470650Z"
    }
   },
   "outputs": [
    {
     "data": {
      "text/plain": [
       "Male      45325\n",
       "Female    45075\n",
       "Name: sex, dtype: int64"
      ]
     },
     "execution_count": 25,
     "metadata": {},
     "output_type": "execute_result"
    }
   ],
   "source": [
    "user_df.sex.value_counts()"
   ]
  },
  {
   "cell_type": "markdown",
   "metadata": {},
   "source": [
    "## Feature Engineering\n",
    "<a id=\"fe\"></a> "
   ]
  },
  {
   "cell_type": "code",
   "execution_count": 26,
   "metadata": {
    "ExecuteTime": {
     "end_time": "2018-12-14T00:26:04.558375Z",
     "start_time": "2018-12-14T00:26:04.509970Z"
    }
   },
   "outputs": [],
   "source": [
    "user_df['week'] = user_df['date'].dt.week\n",
    "user_df['weekday'] = user_df['date'].dt.weekday_name"
   ]
  },
  {
   "cell_type": "markdown",
   "metadata": {},
   "source": [
    "# Conversion Rate\n",
    "<a id=\"conv\"></a> "
   ]
  },
  {
   "cell_type": "code",
   "execution_count": 27,
   "metadata": {
    "ExecuteTime": {
     "end_time": "2018-12-14T00:26:04.688780Z",
     "start_time": "2018-12-14T00:26:04.565803Z"
    }
   },
   "outputs": [],
   "source": [
    "home_df = home_df.merge(user_df, on = 'user_id', how = 'left')"
   ]
  },
  {
   "cell_type": "code",
   "execution_count": 28,
   "metadata": {
    "ExecuteTime": {
     "end_time": "2018-12-14T00:26:04.761055Z",
     "start_time": "2018-12-14T00:26:04.694597Z"
    }
   },
   "outputs": [],
   "source": [
    "search_df = search_df.merge(user_df, on = 'user_id', how = 'left')"
   ]
  },
  {
   "cell_type": "code",
   "execution_count": 29,
   "metadata": {
    "ExecuteTime": {
     "end_time": "2018-12-14T00:26:04.820444Z",
     "start_time": "2018-12-14T00:26:04.767096Z"
    }
   },
   "outputs": [],
   "source": [
    "pay_df = pay_df.merge(user_df, on='user_id', how = 'left')"
   ]
  },
  {
   "cell_type": "code",
   "execution_count": 30,
   "metadata": {
    "ExecuteTime": {
     "end_time": "2018-12-14T00:26:04.840391Z",
     "start_time": "2018-12-14T00:26:04.825624Z"
    }
   },
   "outputs": [],
   "source": [
    "confirm_df = pay_df.merge(confirm_df, on='user_id', how = 'left')"
   ]
  },
  {
   "cell_type": "markdown",
   "metadata": {},
   "source": [
    "## Desktop Conversion Rate\n",
    "<a id=\"desk\"></a> "
   ]
  },
  {
   "cell_type": "code",
   "execution_count": 31,
   "metadata": {
    "ExecuteTime": {
     "end_time": "2018-12-14T00:26:04.949021Z",
     "start_time": "2018-12-14T00:26:04.846888Z"
    }
   },
   "outputs": [],
   "source": [
    "home_df_desk = home_df[home_df.device == 'Desktop']\n",
    "search_df_desk = search_df[search_df.device == 'Desktop']\n",
    "pay_df_desk = pay_df[pay_df.device == 'Desktop']\n",
    "confirm_df_desk = confirm_df[confirm_df.device == 'Desktop']"
   ]
  },
  {
   "cell_type": "code",
   "execution_count": 32,
   "metadata": {
    "ExecuteTime": {
     "end_time": "2018-12-14T00:26:05.000026Z",
     "start_time": "2018-12-14T00:26:04.957021Z"
    }
   },
   "outputs": [
    {
     "name": "stdout",
     "output_type": "stream",
     "text": [
      "('desktop_search_conv_rate: 0.50', 'desktop_pay_conv_rate: 0.10', 'desktop_order_conv_rate: 1.00')\n"
     ]
    }
   ],
   "source": [
    "## conversion rate: homepage -> search page\n",
    "desktop_search_conv_rate = round(1.0 * search_df_desk.user_id.nunique()/home_df_desk.user_id.nunique(), 3)\n",
    "desktop_pay_conv_rate = round(1.0 * pay_df_desk.user_id.nunique()/search_df_desk.user_id.nunique(), 3)\n",
    "desktop_order_conv_rate = round(1.0 * confirm_df_desk.user_id.nunique()/pay_df_desk.user_id.nunique(), 3)\n",
    "print('desktop_search_conv_rate: ''{0:0.2f}'.format(desktop_search_conv_rate), \n",
    "      'desktop_pay_conv_rate: ''{0:0.2f}'.format(desktop_pay_conv_rate),\n",
    "      'desktop_order_conv_rate: ''{0:0.2f}'.format(desktop_order_conv_rate))"
   ]
  },
  {
   "cell_type": "markdown",
   "metadata": {},
   "source": [
    "## Mobile Conversion Rate\n",
    "<a id=\"mob\"></a> "
   ]
  },
  {
   "cell_type": "code",
   "execution_count": 33,
   "metadata": {
    "ExecuteTime": {
     "end_time": "2018-12-14T00:26:05.067089Z",
     "start_time": "2018-12-14T00:26:05.008645Z"
    }
   },
   "outputs": [],
   "source": [
    "home_df_mob = home_df[home_df.device == 'Mobile']\n",
    "search_df_mob = search_df[search_df.device == 'Mobile']\n",
    "pay_df_mob = pay_df[pay_df.device == 'Mobile']\n",
    "confirm_df_mob = confirm_df[confirm_df.device == 'Mobile']"
   ]
  },
  {
   "cell_type": "code",
   "execution_count": 34,
   "metadata": {
    "ExecuteTime": {
     "end_time": "2018-12-14T00:26:05.093698Z",
     "start_time": "2018-12-14T00:26:05.073904Z"
    }
   },
   "outputs": [
    {
     "name": "stdout",
     "output_type": "stream",
     "text": [
      "('mobile_search_conv_rate: 0.50', 'mobile_pay_conv_rate: 0.20', 'mobile_order_conv_rate: 1.00')\n"
     ]
    }
   ],
   "source": [
    "## conversion rate: homepage -> search page\n",
    "mobile_search_conv_rate = round(1.0 * search_df_mob.user_id.nunique()/home_df_mob.user_id.nunique(), 3)\n",
    "mobile_pay_conv_rate = round(1.0 * pay_df_mob.user_id.nunique()/search_df_mob.user_id.nunique(), 3)\n",
    "mobile_order_conv_rate = round(1.0 * confirm_df_mob.user_id.nunique()/pay_df_mob.user_id.nunique(), 3)\n",
    "print('mobile_search_conv_rate: ''{0:0.2f}'.format(mobile_search_conv_rate), \n",
    "      'mobile_pay_conv_rate: ''{0:0.2f}'.format(mobile_pay_conv_rate),\n",
    "      'mobile_order_conv_rate: ''{0:0.2f}'.format(mobile_order_conv_rate))"
   ]
  },
  {
   "cell_type": "code",
   "execution_count": 60,
   "metadata": {
    "ExecuteTime": {
     "end_time": "2018-12-14T01:02:29.001050Z",
     "start_time": "2018-12-14T01:02:28.991643Z"
    }
   },
   "outputs": [],
   "source": [
    "def count_plot(data, x_axis, group, plot_name):\n",
    "    fig, ax = plt.subplots(nrows = 1, ncols = 1, figsize = (8, 5))\n",
    "    sns.countplot(x = x_axis, hue = group, data = data, ax = ax)\n",
    "    ax.set_title(plot_name + 'Count Plot of ' + x_axis, fontsize = 16)\n",
    "    #ax.set_yscale('log')\n",
    "    plt.tight_layout()\n",
    "    plt.show() \n",
    "    return None"
   ]
  },
  {
   "cell_type": "code",
   "execution_count": 61,
   "metadata": {
    "ExecuteTime": {
     "end_time": "2018-12-14T01:02:29.597053Z",
     "start_time": "2018-12-14T01:02:29.370234Z"
    }
   },
   "outputs": [
    {
     "data": {
      "image/png": "[encoded data removed]",
      "text/plain": [
       "<Figure size 576x360 with 1 Axes>"
      ]
     },
     "metadata": {
      "needs_background": "light"
     },
     "output_type": "display_data"
    }
   ],
   "source": [
    "count_plot(pay_df, 'sex', 'device', 'Payment Webiste ')"
   ]
  },
  {
   "cell_type": "code",
   "execution_count": 62,
   "metadata": {
    "ExecuteTime": {
     "end_time": "2018-12-14T01:02:32.006903Z",
     "start_time": "2018-12-14T01:02:31.748191Z"
    }
   },
   "outputs": [
    {
     "data": {
      "image/png": "[encoded data removed]",
      "text/plain": [
       "<Figure size 576x360 with 1 Axes>"
      ]
     },
     "metadata": {
      "needs_background": "light"
     },
     "output_type": "display_data"
    }
   ],
   "source": [
    "count_plot(pay_df, 'weekday', 'device', 'Payment Webiste ')"
   ]
  },
  {
   "cell_type": "code",
   "execution_count": 63,
   "metadata": {
    "ExecuteTime": {
     "end_time": "2018-12-14T01:02:33.204519Z",
     "start_time": "2018-12-14T01:02:32.936833Z"
    }
   },
   "outputs": [
    {
     "data": {
      "image/png": "[encoded data removed]",
      "text/plain": [
       "<Figure size 576x360 with 1 Axes>"
      ]
     },
     "metadata": {
      "needs_background": "light"
     },
     "output_type": "display_data"
    }
   ],
   "source": [
    "count_plot(search_df, 'sex', 'device', 'Search Webiste ')"
   ]
  },
  {
   "cell_type": "code",
   "execution_count": 64,
   "metadata": {
    "ExecuteTime": {
     "end_time": "2018-12-14T01:02:34.259325Z",
     "start_time": "2018-12-14T01:02:33.946653Z"
    }
   },
   "outputs": [
    {
     "data": {
      "image/png": "[encoded data removed]",
      "text/plain": [
       "<Figure size 576x360 with 1 Axes>"
      ]
     },
     "metadata": {
      "needs_background": "light"
     },
     "output_type": "display_data"
    }
   ],
   "source": [
    "count_plot(search_df, 'weekday', 'device', 'Search Webiste ')"
   ]
  },
  {
   "cell_type": "markdown",
   "metadata": {},
   "source": [
    "The conversion rate from search result to click on the product is only 0.10 on the desktop platform, which is half than the mobile platform. The product team should trouble shoot on the search result page. Is that because the payout of the search results on the desktop platform is imappropriately displayed on the desktop screen? We may need web browser types, ip address(country) information to discover the reason of low conversion rate on the desktop platform from search result page to payment page."
   ]
  },
  {
   "cell_type": "code",
   "execution_count": null,
   "metadata": {},
   "outputs": [],
   "source": []
  },
  {
   "cell_type": "code",
   "execution_count": null,
   "metadata": {},
   "outputs": [],
   "source": []
  }
 ],
 "metadata": {
  "kernelspec": {
   "display_name": "Python 2",
   "language": "python",
   "name": "python2"
  },
  "language_info": {
   "codemirror_mode": {
    "name": "ipython",
    "version": 2
   },
   "file_extension": ".py",
   "mimetype": "text/x-python",
   "name": "python",
   "nbconvert_exporter": "python",
   "pygments_lexer": "ipython2",
   "version": "2.7.15"
  },
  "toc": {
   "base_numbering": 1,
   "nav_menu": {},
   "number_sections": true,
   "sideBar": true,
   "skip_h1_title": false,
   "title_cell": "Table of Contents",
   "title_sidebar": "Contents",
   "toc_cell": false,
   "toc_position": {},
   "toc_section_display": true,
   "toc_window_display": false
  }
 },
 "nbformat": 4,
 "nbformat_minor": 2
}
